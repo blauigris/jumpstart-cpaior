{
 "cells": [
  {
   "cell_type": "code",
   "execution_count": 1,
   "metadata": {},
   "outputs": [
    {
     "name": "stdout",
     "output_type": "stream",
     "text": [
      "/bin/sh: gpustat: command not found\r\n"
     ]
    }
   ],
   "source": [
    "!gpustat"
   ]
  },
  {
   "cell_type": "code",
   "execution_count": 2,
   "metadata": {},
   "outputs": [
    {
     "name": "stdout",
     "output_type": "stream",
     "text": [
      "env: CUDA_DEVICE_ORDER=PCI_BUS_ID\n",
      "env: CUDA_VISIBLE_DEVICES=0\n"
     ]
    }
   ],
   "source": [
    "%matplotlib inline\n",
    "%reload_ext autoreload\n",
    "%autoreload 2\n",
    "%env CUDA_DEVICE_ORDER=PCI_BUS_ID\n",
    "%env CUDA_VISIBLE_DEVICES=0"
   ]
  },
  {
   "cell_type": "code",
   "execution_count": 7,
   "metadata": {},
   "outputs": [],
   "source": [
    "from sep_cons_experiment import SepConsExperiment\n",
    "from keras import regularizers\n",
    "from sklearn.model_selection import ParameterGrid\n",
    "from tqdm import tqdm\n",
    "import numpy as np\n",
    "import keras.backend as K"
   ]
  },
  {
   "cell_type": "code",
   "execution_count": 8,
   "metadata": {},
   "outputs": [
    {
     "name": "stdout",
     "output_type": "stream",
     "text": [
      "width: [25]\n",
      "depth: [150]\n"
     ]
    }
   ],
   "source": [
    "widths = [25] #list(range(1,5)) + list(range(5,26, 5))\n",
    "depths =  [150]#list(range(90,151, 10))\n",
    "\n",
    "print('width:', widths)\n",
    "print('depth:', depths)\n"
   ]
  },
  {
   "cell_type": "code",
   "execution_count": null,
   "metadata": {},
   "outputs": [
    {
     "name": "stderr",
     "output_type": "stream",
     "text": [
      "\r",
      "  0%|          | 0/1 [00:00<?, ?it/s]"
     ]
    },
    {
     "name": "stdout",
     "output_type": "stream",
     "text": [
      "moons-grid-zero\n",
      "WARNING:tensorflow:From /Users/carles/miniconda3/lib/python3.7/site-packages/tensorflow/python/framework/op_def_library.py:263: colocate_with (from tensorflow.python.framework.ops) is deprecated and will be removed in a future version.\n",
      "Instructions for updating:\n",
      "Colocations handled automatically by placer.\n",
      "{'self': <sep_cons_experiment.SepConsExperiment object at 0x11cc81400>, 'name': 'moons-grid-zero', 'dataset': 'moons', 'lr': 0.01, 'batch_size': 85, 'epochs': 5000, 'optimizer': 'adam', 'histogram_freq': 0, 'write_grads': False, 'loss': 'crossentropy', 'epoch_start': 0, 'epoch_freq': 0, 'show_on_train': False, 'seed': 10, 'show_input_layer': False, 'show_local_layers': False, 'show_decision_layers': True, 'batch_freq': 0, 'check_weights': False, 'check_gradients': False, 'check_units': None, 'check_optimizer': False, 'write_graph': False, 'check_numerics': False, 'verbose': 0, 'memory': 0.25, 'write_images': False, 'embeddings_freq': None, 'embeddings_layer_names': None, 'extra': None, 'save_config': True, 'store_img': False, 'lr_schedule': None, 'min_lr': 1e-05, 'max_lr': 0.01, 'min_mtm': 0.85, 'max_mtm': 0.95, 'step_size': 1000, 'plot_matrix': False, 'plot_activations': False, 'plot_all_losses': False, 'log_dir': 'moons_grid_summaries', 'cached': False, 'plot_surface': False, 'single_plot': False, 'annealing_dropout_epochs': 1000, 'annealing_dropout_rate': 0.9, 'print_weights': False, 'plot_epsilon': 0.01, 'kwargs': {'depth': 150, 'width': 25, 'activation': 'separating_relu_annealing_dropout', 'kernel_size': None, 'layer_parameters': {'padding': 'same', 'kernel_initializer': 'zeros', 'bias_initializer': 'zeros', 'balance': 0.51, 'separability_regularizer': <keras.regularizers.L1L2 object at 0x11cc81ba8>, 'use_bias': True, 'axis': [0, -1], 'rate': <tf.Variable 'dropout_rate:0' shape=() dtype=float32_ref>}}}\n",
      "WARNING:tensorflow:From /Users/carles/miniconda3/lib/python3.7/site-packages/keras/backend/tensorflow_backend.py:3445: calling dropout (from tensorflow.python.ops.nn_ops) with keep_prob is deprecated and will be removed in a future version.\n",
      "Instructions for updating:\n",
      "Please use `rate` instead of `keep_prob`. Rate should be set to `rate = 1 - keep_prob`.\n",
      "WARNING:tensorflow:From /Users/carles/miniconda3/lib/python3.7/site-packages/tensorflow/python/ops/math_ops.py:3066: to_int32 (from tensorflow.python.ops.math_ops) is deprecated and will be removed in a future version.\n",
      "Instructions for updating:\n",
      "Use tf.cast instead.\n",
      "WARNING:tensorflow:From /Users/carles/miniconda3/lib/python3.7/site-packages/tensorflow/python/ops/math_grad.py:102: div (from tensorflow.python.ops.math_ops) is deprecated and will be removed in a future version.\n",
      "Instructions for updating:\n",
      "Deprecated in favor of operator or tf.math.divide.\n"
     ]
    }
   ],
   "source": [
    "epochs = 5000\n",
    "balance = 0.51\n",
    "\n",
    "param_grid = ParameterGrid({'activation': ['separating_relu_annealing_dropout'], 'lr': [0.01], 'batch_size': [85,],\n",
    "                           'depth': depths, 'width': widths,\n",
    "                           'lmda': [0.0001]})\n",
    "\n",
    "for params in tqdm(param_grid):\n",
    "    activation, lr, batch_size = params['activation'], params['lr'], params['batch_size']\n",
    "    depth, width = params['depth'], params['width']\n",
    "    lmda = params['lmda']\n",
    "    \n",
    "    sep = regularizers.l2(lmda)\n",
    "    sep.name = lmda\n",
    "    summary_path = 'moons_grid_summaries'\n",
    "    name = f'moons-grid-zero'\n",
    "    print(name)\n",
    "    exp = SepConsExperiment()\n",
    "    freq = 1\n",
    "    rate = K.variable(value=0.1, dtype='float32', name='dropout_rate')\n",
    "\n",
    "    exp.run(name=name, dataset='moons', epochs=epochs,\n",
    "            optimizer='adam', lr=lr, batch_size=batch_size,\n",
    "            depth=depth, width=width, activation=activation,  seed=10,\n",
    "            kernel_size=None,\n",
    "            memory=0.25,\n",
    "            layer_parameters={\n",
    "                'padding': 'same',\n",
    "                \n",
    "                'kernel_initializer': 'zeros',\n",
    "                'bias_initializer': 'zeros',\n",
    "                'balance': balance,\n",
    "                \n",
    "                'separability_regularizer': sep,\n",
    "                'use_bias': True,\n",
    "                'axis': [0,-1],\n",
    "                'rate': rate,\n",
    "            },\n",
    "            log_dir=summary_path,\n",
    "            annealing_dropout_epochs=1000,\n",
    "            annealing_dropout_rate=0.9\n",
    "            )\n"
   ]
  },
  {
   "cell_type": "code",
   "execution_count": null,
   "metadata": {},
   "outputs": [],
   "source": []
  }
 ],
 "metadata": {
  "kernelspec": {
   "display_name": "Python [conda env:root] *",
   "language": "python",
   "name": "conda-root-py"
  },
  "language_info": {
   "codemirror_mode": {
    "name": "ipython",
    "version": 3
   },
   "file_extension": ".py",
   "mimetype": "text/x-python",
   "name": "python",
   "nbconvert_exporter": "python",
   "pygments_lexer": "ipython3",
   "version": "3.7.3"
  }
 },
 "nbformat": 4,
 "nbformat_minor": 2
}
