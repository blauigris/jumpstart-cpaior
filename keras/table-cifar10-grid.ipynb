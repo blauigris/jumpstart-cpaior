{
 "cells": [
  {
   "cell_type": "code",
   "execution_count": 2,
   "metadata": {},
   "outputs": [
    {
     "name": "stderr",
     "output_type": "stream",
     "text": [
      "Using TensorFlow backend.\n"
     ]
    }
   ],
   "source": [
    "import numpy as np\n",
    "from pathlib import Path\n",
    "import table\n",
    "import tensorflow as tf\n",
    "import pandas as pd\n",
    "import re\n",
    "from tqdm import tqdm\n",
    "from collections import defaultdict\n",
    "import keras\n",
    "from linked_neurons import SeparatingReLU\n",
    "from keras.models import model_from_json\n",
    "import dill as pkl\n",
    "import matplotlib.pyplot as plt\n",
    "import seaborn as sns\n",
    "from slugify import slugify\n",
    "\n",
    "\n",
    "\n",
    "# %load_ext line_profiler"
   ]
  },
  {
   "cell_type": "code",
   "execution_count": 3,
   "metadata": {},
   "outputs": [],
   "source": [
    "results = None"
   ]
  },
  {
   "cell_type": "code",
   "execution_count": 4,
   "metadata": {},
   "outputs": [
    {
     "name": "stderr",
     "output_type": "stream",
     "text": [
      "\r",
      "  0%|          | 0/23 [00:00<?, ?it/s]"
     ]
    },
    {
     "name": "stdout",
     "output_type": "stream",
     "text": [
      "WARNING:tensorflow:From /home/carles/miniconda3/envs/tf_gpu/lib/python3.7/site-packages/tensorflow/python/summary/summary_iterator.py:68: tf_record_iterator (from tensorflow.python.lib.io.tf_record) is deprecated and will be removed in a future version.\n",
      "Instructions for updating:\n",
      "Use eager execution and: \n",
      "`tf.data.TFRecordDataset(path)`\n"
     ]
    },
    {
     "name": "stderr",
     "output_type": "stream",
     "text": [
      "\r",
      " 30%|███       | 7/23 [00:00<00:00, 62.80it/s]"
     ]
    },
    {
     "name": "stdout",
     "output_type": "stream",
     "text": [
      "cifar10_grid_summaries/cifar10-grid-relu-bn-relu-bn-50x10-ks-3-3-lp-p-same-ub-true-crossentropy-adam-0-001-bs-1024-2019-06-18-18-00-14\n",
      "cifar10_grid_summaries/cifar10-grid-relu-relu-25x10-ks-3-3-lp-p-same-ub-true-crossentropy-adam-0-001-bs-1024-2019-06-20-14-54-35\n",
      "Missing event file at cifar10_grid_summaries/cifar10-grid-separating-relu-separating-relu-50x10-ks-3-3-lp-p-same-sr-1e-08-ub-true-a-0-1-crossentropy-adam-0-001-bs-1024-2019-06-20-14-35-10\n",
      "cifar10_grid_summaries/cifar10-grid-separating-relu-separating-relu-2x10-ks-3-3-lp-p-same-sr-1e-08-ub-true-a-0-1-crossentropy-adam-0-001-bs-1024-2019-06-18-17-42-12\n",
      "cifar10_grid_summaries/cifar10-grid-relu-relu-50x10-ks-3-3-lp-p-same-ub-true-crossentropy-adam-0-001-bs-1024-2019-06-20-14-47-00\n",
      "cifar10_grid_summaries/cifar10-grid-relu-relu-10x10-ks-3-3-lp-p-same-ub-true-crossentropy-adam-0-001-bs-1024-2019-06-20-14-51-25\n",
      "cifar10_grid_summaries/cifar10-grid-relu-bn-relu-bn-2x10-ks-3-3-lp-p-same-ub-true-crossentropy-adam-0-001-bs-1024-2019-06-18-17-43-42\n",
      "cifar10_grid_summaries/cifar10-grid-separating-relu-separating-relu-30x10-ks-3-3-lp-p-same-sr-1e-08-ub-true-a-0-1-crossentropy-adam-0-001-bs-1024-2019-06-20-14-47-18\n",
      "cifar10_grid_summaries/cifar10-grid-relu-bn-relu-bn-40x10-ks-3-3-lp-p-same-ub-true-crossentropy-adam-0-001-bs-1024-2019-06-20-15-01-15\n",
      "cifar10_grid_summaries/cifar10-grid-relu-relu-2x10-ks-3-3-lp-p-same-ub-true-crossentropy-adam-0-001-bs-1024-2019-06-20-14-50-09\n",
      "cifar10_grid_summaries/cifar10-grid-relu-bn-relu-bn-10x10-ks-3-3-lp-p-same-ub-true-crossentropy-adam-0-001-bs-1024-2019-06-18-17-45-24\n",
      "cifar10_grid_summaries/cifar10-grid-relu-bn-relu-bn-25x10-ks-3-3-lp-p-same-ub-true-crossentropy-adam-0-001-bs-1024-2019-06-18-17-50-05\n",
      "cifar10_grid_summaries/cifar10-grid-relu-bn-relu-bn-75x10-ks-3-3-lp-p-same-ub-true-crossentropy-adam-0-001-bs-1024-2019-06-20-14-33-30\n"
     ]
    },
    {
     "name": "stderr",
     "output_type": "stream",
     "text": [
      "\r",
      " 83%|████████▎ | 19/23 [00:00<00:00, 71.74it/s]"
     ]
    },
    {
     "name": "stdout",
     "output_type": "stream",
     "text": [
      "cifar10_grid_summaries/cifar10-grid-separating-relu-separating-relu-25x10-ks-3-3-lp-p-same-sr-1e-08-ub-true-a-0-1-crossentropy-adam-0-001-bs-1024-2019-06-18-17-52-39\n",
      "cifar10_grid_summaries/cifar10-grid-separating-relu-separating-relu-10x10-ks-3-3-lp-p-same-sr-1e-08-ub-true-a-0-1-crossentropy-adam-0-001-bs-1024-2019-06-18-17-44-46\n",
      "cifar10_grid_summaries/cifar10-grid-separating-relu-separating-relu-40x10-ks-3-3-lp-p-same-sr-1e-08-ub-true-a-0-1-crossentropy-adam-0-001-bs-1024-2019-06-20-15-08-41\n"
     ]
    },
    {
     "name": "stderr",
     "output_type": "stream",
     "text": [
      "\r",
      "100%|██████████| 23/23 [00:00<00:00, 84.77it/s]"
     ]
    },
    {
     "name": "stdout",
     "output_type": "stream",
     "text": [
      "cifar10_grid_summaries/cifar10-grid-relu-relu-40x10-ks-3-3-lp-p-same-ub-true-crossentropy-adam-0-001-bs-1024-2019-06-20-15-08-42\n",
      "cifar10_grid_summaries/cifar10-grid-relu-relu-30x10-ks-3-3-lp-p-same-ub-true-crossentropy-adam-0-001-bs-1024-2019-06-20-15-01-04\n",
      "cifar10_grid_summaries/cifar10-grid-relu-bn-relu-bn-30x10-ks-3-3-lp-p-same-ub-true-crossentropy-adam-0-001-bs-1024-2019-06-20-14-49-26\n"
     ]
    },
    {
     "name": "stderr",
     "output_type": "stream",
     "text": [
      "\n"
     ]
    }
   ],
   "source": [
    "def extract_metrics(event_file):\n",
    "    results = []\n",
    "    for e in tf.train.summary_iterator(event_file):\n",
    "        for v in e.summary.value:\n",
    "            if v.tag.endswith('loss') or v.tag.endswith('acc'):\n",
    "                results.append((e.step, e.wall_time, v.tag, v.simple_value))\n",
    "\n",
    "    return pd.DataFrame(results, columns=['epoch', 'wall time', 'tag', 'value'])\n",
    "\n",
    "\n",
    "path = Path('./cifar10_grid_summaries/')\n",
    "\n",
    "selected_activations = None\n",
    "architecture_regex = re.compile('-(\\d+)x(\\d+)-')\n",
    "sr_regex = re.compile('-sr-(\\d+)(?:-(\\d+))?(?:(e-\\d+))?-')\n",
    "if not results:\n",
    "    results = defaultdict(lambda: defaultdict(pd.DataFrame)) # tag, activation\n",
    "for summary_path in tqdm(path.iterdir(), total=len(list(path.iterdir()))):\n",
    "    if summary_path.is_dir():\n",
    "        path = summary_path\n",
    "        \n",
    "        event_file = list(path.glob('*events*'))            \n",
    "        if not event_file:\n",
    "            print(f'Missing event file at {summary_path}')\n",
    "        else:\n",
    "            event_file = str(event_file[0].resolve())\n",
    "            depth, width = architecture_regex.search(event_file).groups()\n",
    "            depth, width = int(depth), int(width)\n",
    "            if 'separating' in event_file:\n",
    "                match = sr_regex.search(event_file)\n",
    "                if match is None:\n",
    "                    continue\n",
    "                else:\n",
    "                    integer, decimal, scientific = match.groups()\n",
    "#                     print(integer, decimal, scientific)\n",
    "                    if decimal:                        \n",
    "                        lmda = integer+'.'+decimal \n",
    "                    elif scientific:\n",
    "                        lmda = integer + scientific\n",
    "                    else:\n",
    "                        lmda = integer\n",
    "\n",
    "                    lmda = float(lmda)\n",
    "                    \n",
    "                    if 'a-none' in event_file:\n",
    "                        activation = f'Sep-L {lmda}'\n",
    "                    elif 'a-0-1' in event_file:\n",
    "                        activation = f'Sep-UP {lmda}'\n",
    "                    elif 'a-0' in event_file:\n",
    "                        activation = f'Sep-U {lmda}'\n",
    "                    elif 'a-1' in event_file:\n",
    "                        activation = f'Sep-P {lmda}'\n",
    "\n",
    "                    else:\n",
    "                        raise RuntimeError(f'Unknown activation {activation}')\n",
    "\n",
    "                    if 'zero' in event_file:\n",
    "                        activation +=' zero'\n",
    "                    if 'nm-0' in event_file:\n",
    "                        activation += ' nm-0'\n",
    "                    if 'ks-3-3' in event_file:\n",
    "                            activation += ' ks 3x3'\n",
    "\n",
    "            else:\n",
    "                if 'relu-bn' in event_file:\n",
    "                    activation = 'relu-bn'\n",
    "                else:\n",
    "                    activation = 'relu'\n",
    "                if 'ks-3-3' in event_file:\n",
    "                    activation += ' ks 3x3'\n",
    "                    \n",
    "            if not selected_activations or activation in selected_activations:\n",
    "                try:\n",
    "                    acc = results['acc'][activation].loc[width, depth]\n",
    "                    val_acc = results['val_acc'][activation].loc[width, depth]\n",
    "                    if np.isnan(acc) or np.isnan(val_acc):\n",
    "#                         print(event_file)\n",
    "\n",
    "                        metrics = extract_metrics(event_file)\n",
    "                        best = metrics.groupby('tag').max()['value']\n",
    "\n",
    "                        results['acc'][activation].loc[width, depth] = best['acc']\n",
    "                        results['val_acc'][activation].loc[width, depth] = best['val_acc']\n",
    "                        print(summary_path)\n",
    "\n",
    "                except KeyError as ex:\n",
    "#                     print(event_file)\n",
    "                    metrics = extract_metrics(event_file)\n",
    "                    best = metrics.groupby('tag').max()['value']\n",
    "\n",
    "                    results['acc'][activation].loc[width, depth] = best['acc']\n",
    "                    results['val_acc'][activation].loc[width, depth] = best['val_acc']\n",
    "                    print(summary_path)\n",
    "\n",
    "        \n",
    "\n",
    "\n",
    "            \n"
   ]
  },
  {
   "cell_type": "code",
   "execution_count": 6,
   "metadata": {},
   "outputs": [],
   "source": [
    "import dill as pkl\n",
    "with open('cifar10-results-grid.pkl', 'wb') as f:\n",
    "    pkl.dump(results , f)\n",
    "    "
   ]
  },
  {
   "cell_type": "code",
   "execution_count": 7,
   "metadata": {},
   "outputs": [],
   "source": [
    "import dill as pkl\n",
    "with open('cifar10-results-grid.pkl', 'rb') as f:\n",
    "    results = pkl.load(f)"
   ]
  },
  {
   "cell_type": "code",
   "execution_count": 8,
   "metadata": {
    "scrolled": false
   },
   "outputs": [
    {
     "name": "stdout",
     "output_type": "stream",
     "text": [
      "acc\n",
      "relu-bn ks 3x3\n",
      "        2        10       25       30       40       50       75\n",
      "10  0.9058  0.81764  0.70496  0.66718  0.59642  0.54744  0.27774\n",
      "relu ks 3x3\n",
      "        2        10       25      30      40       50\n",
      "10  0.7215  0.81618  0.09906  0.0988  0.0981  0.09846\n",
      "Sep-UP 1e-08 ks 3x3\n",
      "         2        10       25       30       40\n",
      "10  0.69264  0.79044  0.74344  0.70452  0.68416\n",
      "\n",
      "val_acc\n",
      "relu-bn ks 3x3\n",
      "        2       10      25      30      40      50      75\n",
      "10  0.5682  0.5385  0.5414  0.5328  0.4512  0.4159  0.2637\n",
      "relu ks 3x3\n",
      "        2       10   25   30   40   50\n",
      "10  0.5959  0.5974  0.1  0.1  0.1  0.1\n",
      "Sep-UP 1e-08 ks 3x3\n",
      "        2       10      25    30     40\n",
      "10  0.5874  0.5703  0.5353  0.53  0.532\n",
      "\n"
     ]
    }
   ],
   "source": [
    "acc = pd.DataFrame()\n",
    "for metric_name, metric in results.items():\n",
    "    print(metric_name)\n",
    "    for activation_name, activation in metric.items():\n",
    "        if 'ks 3x3' in activation_name:\n",
    "            print(activation_name)\n",
    "            print(activation.sort_index().sort_index(axis=1))\n",
    "    print()\n",
    "            "
   ]
  },
  {
   "cell_type": "code",
   "execution_count": 9,
   "metadata": {},
   "outputs": [
    {
     "data": {
      "text/html": [
       "<div>\n",
       "<style scoped>\n",
       "    .dataframe tbody tr th:only-of-type {\n",
       "        vertical-align: middle;\n",
       "    }\n",
       "\n",
       "    .dataframe tbody tr th {\n",
       "        vertical-align: top;\n",
       "    }\n",
       "\n",
       "    .dataframe thead th {\n",
       "        text-align: right;\n",
       "    }\n",
       "</style>\n",
       "<table border=\"1\" class=\"dataframe\">\n",
       "  <thead>\n",
       "    <tr style=\"text-align: right;\">\n",
       "      <th></th>\n",
       "      <th>2</th>\n",
       "      <th>10</th>\n",
       "      <th>25</th>\n",
       "      <th>30</th>\n",
       "      <th>40</th>\n",
       "    </tr>\n",
       "  </thead>\n",
       "  <tbody>\n",
       "    <tr>\n",
       "      <th>ReLU</th>\n",
       "      <td>0.5959</td>\n",
       "      <td>0.5974</td>\n",
       "      <td>0.1000</td>\n",
       "      <td>0.1000</td>\n",
       "      <td>0.1000</td>\n",
       "    </tr>\n",
       "    <tr>\n",
       "      <th>ReLU-BN</th>\n",
       "      <td>0.5682</td>\n",
       "      <td>0.5385</td>\n",
       "      <td>0.5414</td>\n",
       "      <td>0.5328</td>\n",
       "      <td>0.4512</td>\n",
       "    </tr>\n",
       "    <tr>\n",
       "      <th>Sep-UP</th>\n",
       "      <td>0.5874</td>\n",
       "      <td>0.5703</td>\n",
       "      <td>0.5353</td>\n",
       "      <td>0.5300</td>\n",
       "      <td>0.5320</td>\n",
       "    </tr>\n",
       "  </tbody>\n",
       "</table>\n",
       "</div>"
      ],
      "text/plain": [
       "             2       10      25      30      40\n",
       "ReLU     0.5959  0.5974  0.1000  0.1000  0.1000\n",
       "ReLU-BN  0.5682  0.5385  0.5414  0.5328  0.4512\n",
       "Sep-UP   0.5874  0.5703  0.5353  0.5300  0.5320"
      ]
     },
     "execution_count": 9,
     "metadata": {},
     "output_type": "execute_result"
    }
   ],
   "source": [
    "names = {'relu ks 3x3': 'ReLU', 'relu-bn ks 3x3': 'ReLU-BN', 'Sep-UP 1e-08 ks 3x3': 'Sep-UP'}\n",
    "\n",
    "df_acc = pd.concat(results['acc'])\n",
    "df_acc = df_acc.iloc[[1,2,0], :-2]\n",
    "df_acc.index = df_acc.index.droplevel(1)\n",
    "df_acc = df_acc.rename(index=names)\n",
    "\n",
    "df_val_acc = pd.concat(results['val_acc'])\n",
    "df_val_acc = df_val_acc.iloc[[1,2,0], :-2]\n",
    "df_val_acc.index = df_val_acc.index.droplevel(1)\n",
    "df_val_acc = df_val_acc.rename(index=names)\n",
    "\n",
    "df_val_acc"
   ]
  },
  {
   "cell_type": "code",
   "execution_count": 114,
   "metadata": {},
   "outputs": [],
   "source": [
    "df_val_acc.to_latex('cifar10_val_acc.tex')\n",
    "df_acc.to_latex('cifar10_acc.tex')"
   ]
  },
  {
   "cell_type": "code",
   "execution_count": 115,
   "metadata": {},
   "outputs": [
    {
     "data": {
      "image/png": "[encoded data removed]",
      "text/plain": [
       "<Figure size 3960x720 with 2 Axes>"
      ]
     },
     "metadata": {},
     "output_type": "display_data"
    }
   ],
   "source": [
    "sns.set_style(\"white\")\n",
    "fig, axes = plt.subplots(2, figsize=(55, 10))\n",
    "# axes[0].set_title('acc')\n",
    "# axes[1].set_title('val acc')\n",
    "\n",
    "vmin = None\n",
    "vmax = None\n",
    "\n",
    "axes = axes.flatten()\n",
    "\n",
    "ax = axes[0]\n",
    "ax.matshow(df_acc, vmin=vmin, vmax=vmax)\n",
    "# ax.set_title(f'{metric_name}: {activation_name}')\n",
    "ax.set_xticks(range(len(df_acc.columns)))\n",
    "ax.set_yticks(range(len(df_acc.index)))\n",
    "ax.set_xticklabels(df_acc.columns)\n",
    "ax.set_yticklabels(df_acc.index)\n",
    "ax.xaxis.set_ticks_position('bottom')\n",
    "ax.set_xlabel('Depth')\n",
    "\n",
    "ax = axes[1]\n",
    "ax.matshow(df_val_acc, vmin=vmin, vmax=vmax)\n",
    "# ax.set_title(f'{metric_name}: {activation_name}')\n",
    "ax.set_xticks(range(len(df_val_acc.columns)))\n",
    "ax.set_yticks(range(len(df_val_acc.index)))\n",
    "ax.set_xticklabels(df_val_acc.columns)\n",
    "ax.set_yticklabels(df_val_acc.index)\n",
    "ax.xaxis.set_ticks_position('bottom')\n",
    "ax.set_xlabel('Depth')\n",
    "ax.set_ylabel('Width')\n",
    "\n",
    "fig.tight_layout()"
   ]
  },
  {
   "cell_type": "code",
   "execution_count": 15,
   "metadata": {},
   "outputs": [
    {
     "data": {
      "image/png": "[encoded data removed]",
      "text/plain": [
       "<Figure size 576x360 with 1 Axes>"
      ]
     },
     "metadata": {},
     "output_type": "display_data"
    },
    {
     "data": {
      "image/png": "[encoded data removed]",
      "text/plain": [
       "<Figure size 576x360 with 1 Axes>"
      ]
     },
     "metadata": {},
     "output_type": "display_data"
    }
   ],
   "source": [
    "sns.set_style(\"white\")\n",
    "sns.set_context(\"talk\")\n",
    "\n",
    "output_dir = Path('plots/cifar10_grid')\n",
    "output_dir.mkdir(parents=True, exist_ok=True)\n",
    "font = {\n",
    "#         'weight' : 'bold',\n",
    "    'color': 'white'\n",
    "#         'size'   : 22\n",
    "}\n",
    "thr = 0.2\n",
    "\n",
    "# axes[0].set_title('acc')\n",
    "# axes[1].set_title('val acc')\n",
    "vmin = None\n",
    "vmax = None\n",
    "# vmin = df_val_acc.min().min()\n",
    "# vmax = df_val_acc.max().max()\n",
    "\n",
    "figsize = (8, 5)\n",
    "\n",
    "fig, ax = plt.subplots(1, figsize=figsize)\n",
    "ax.matshow(df_acc, vmin=vmin, vmax=vmax)\n",
    "# ax.set_title(f'{metric_name}: {activation_name}')\n",
    "ax.set_xticks(range(len(df_acc.columns)))\n",
    "ax.set_yticks(range(len(df_acc.index)))\n",
    "ax.set_xticklabels(df_acc.columns)\n",
    "ax.set_yticklabels(df_acc.index)\n",
    "ax.xaxis.set_ticks_position('bottom')\n",
    "ax.set_xlabel('Depth')\n",
    "\n",
    "for (i, j), z in np.ndenumerate(df_acc):\n",
    "    if z < thr:\n",
    "        font['color'] = 'white'\n",
    "    else:\n",
    "        font['color'] = 'black'\n",
    "        \n",
    "    ax.text(j, i, '{:0.2f}'.format(z), ha='center', va='center', fontdict=font)\n",
    "\n",
    "fig.tight_layout()    \n",
    "fig.savefig(output_dir.joinpath('cifar10-acc.pdf'))\n",
    "\n",
    "\n",
    "fig, ax = plt.subplots(1, figsize=figsize)\n",
    "ax.matshow(df_val_acc, vmin=vmin, vmax=vmax)\n",
    "# ax.set_title(f'{metric_name}: {activation_name}')\n",
    "ax.set_xticks(range(len(df_val_acc.columns)))\n",
    "ax.set_yticks(range(len(df_val_acc.index)))\n",
    "ax.set_xticklabels(df_val_acc.columns)\n",
    "ax.set_yticklabels(df_val_acc.index)\n",
    "ax.xaxis.set_ticks_position('bottom')\n",
    "ax.set_xlabel('Depth')\n",
    "\n",
    "for (i, j), z in np.ndenumerate(df_val_acc):\n",
    "    if z < thr:\n",
    "        font['color'] = 'white'\n",
    "    else:\n",
    "        font['color'] = 'black'\n",
    "    ax.text(j, i, '{:0.2f}'.format(z), ha='center', va='center', fontdict=font)\n",
    "\n",
    "fig.tight_layout()\n",
    "fig.savefig(output_dir.joinpath('cifar10-val_acc.pdf'))\n",
    "\n"
   ]
  }
 ],
 "metadata": {
  "kernelspec": {
   "display_name": "Python [conda env:keras] *",
   "language": "python",
   "name": "conda-env-keras-py"
  },
  "language_info": {
   "codemirror_mode": {
    "name": "ipython",
    "version": 3
   },
   "file_extension": ".py",
   "mimetype": "text/x-python",
   "name": "python",
   "nbconvert_exporter": "python",
   "pygments_lexer": "ipython3",
   "version": "3.6.7"
  }
 },
 "nbformat": 4,
 "nbformat_minor": 2
}
