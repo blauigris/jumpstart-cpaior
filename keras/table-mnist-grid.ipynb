{
 "cells": [
  {
   "cell_type": "code",
   "execution_count": 49,
   "metadata": {},
   "outputs": [],
   "source": [
    "import numpy as np\n",
    "from pathlib import Path\n",
    "import table\n",
    "import tensorflow as tf\n",
    "import pandas as pd\n",
    "import re\n",
    "from tqdm import tqdm\n",
    "from collections import defaultdict\n",
    "import keras\n",
    "from linked_neurons import SeparatingReLU\n",
    "from keras.models import model_from_json\n",
    "import dill as pkl\n",
    "import matplotlib.pyplot as plt\n",
    "import seaborn as sns\n",
    "\n",
    "from slugify import slugify\n",
    "# %load_ext line_profiler"
   ]
  },
  {
   "cell_type": "code",
   "execution_count": 4,
   "metadata": {},
   "outputs": [
    {
     "name": "stderr",
     "output_type": "stream",
     "text": [
      "\r",
      "  0%|          | 0/459 [00:00<?, ?it/s]"
     ]
    },
    {
     "name": "stdout",
     "output_type": "stream",
     "text": [
      "mnist_grid_summaries/mnist-grid-relu-relu-4x2-ks-none-lp-p-same-ub-true-crossentropy-adam-0-001-bs-1024-2019-06-06-14-27-43\n",
      "WARNING:tensorflow:From /home/carles/miniconda3/envs/tf_gpu/lib/python3.7/site-packages/tensorflow/python/summary/summary_iterator.py:68: tf_record_iterator (from tensorflow.python.lib.io.tf_record) is deprecated and will be removed in a future version.\n",
      "Instructions for updating:\n",
      "Use eager execution and: \n",
      "`tf.data.TFRecordDataset(path)`\n"
     ]
    },
    {
     "name": "stderr",
     "output_type": "stream",
     "text": [
      "\r",
      "  1%|          | 4/459 [00:00<00:12, 35.95it/s]"
     ]
    },
    {
     "name": "stdout",
     "output_type": "stream",
     "text": [
      "mnist_grid_summaries/mnist-grid-separating-relu-separating-relu-8x8-ks-none-lp-p-same-sr-1e-06-ub-true-a-0-1-crossentropy-adam-0-001-bs-1024-2019-06-06-14-34-31\n",
      "mnist_grid_summaries/mnist-grid-relu-relu-16x16-ks-none-lp-p-same-ub-true-crossentropy-adam-0-001-bs-1024-2019-06-06-15-49-20\n",
      "mnist_grid_summaries/mnist-grid-relu-bn-relu-bn-40x8-ks-3-3-lp-p-same-ub-true-crossentropy-adam-0-001-bs-1024-2019-06-18-20-17-53\n",
      "mnist_grid_summaries/mnist-grid-relu-bn-relu-bn-36x4-ks-none-lp-p-same-ub-true-crossentropy-adam-0-001-bs-1024-2019-06-17-20-43-40\n",
      "mnist_grid_summaries/mnist-grid-separating-relu-separating-relu-16x4-ks-none-lp-p-same-sr-0-0001-ub-true-a-0-1-crossentropy-adam-0-001-bs-1024-2019-06-06-13-28-00\n",
      "mnist_grid_summaries/mnist-grid-relu-relu-36x2-ks-3-3-lp-p-same-ub-true-crossentropy-adam-0-001-bs-1024-2019-06-20-14-42-13\n",
      "mnist_grid_summaries/mnist-grid-separating-relu-separating-relu-2x16-ks-3-3-lp-p-same-sr-1e-08-ub-true-a-0-1-crossentropy-adam-0-001-bs-1024-2019-06-21-20-39-54\n",
      "mnist_grid_summaries/mnist-grid-relu-bn-relu-bn-12x2-ks-none-lp-p-same-ub-true-crossentropy-adam-0-001-bs-1024-2019-06-17-17-23-50\n"
     ]
    },
    {
     "name": "stderr",
     "output_type": "stream",
     "text": [
      "\r",
      "  2%|▏         | 10/459 [00:00<00:11, 39.47it/s]"
     ]
    },
    {
     "name": "stdout",
     "output_type": "stream",
     "text": [
      "mnist_grid_summaries/mnist-grid-separating-relu-separating-relu-8x4-ks-3-3-lp-p-same-sr-1e-08-ub-true-a-0-1-crossentropy-adam-0-001-bs-1024-2019-06-18-15-55-37\n",
      "mnist_grid_summaries/mnist-grid-relu-relu-44x2-ks-none-lp-p-same-ub-true-crossentropy-adam-0-001-bs-1024-2019-06-18-18-37-51\n",
      "mnist_grid_summaries/mnist-grid-relu-bn-relu-bn-4x4-ks-3-3-lp-p-same-ub-true-crossentropy-adam-0-001-bs-1024-2019-06-18-17-38-38\n"
     ]
    },
    {
     "name": "stderr",
     "output_type": "stream",
     "text": [
      "\r",
      "  4%|▎         | 17/459 [00:00<00:09, 45.25it/s]"
     ]
    },
    {
     "name": "stdout",
     "output_type": "stream",
     "text": [
      "mnist_grid_summaries/mnist-grid-relu-bn-relu-bn-64x16-ks-3-3-lp-p-same-ub-true-crossentropy-adam-0-001-bs-1024-2019-06-22-04-01-07\n",
      "mnist_grid_summaries/mnist-grid-separating-relu-separating-relu-40x4-ks-3-3-lp-p-same-sr-1e-08-ub-true-a-0-1-crossentropy-adam-0-001-bs-1024-2019-06-18-19-32-37\n",
      "mnist_grid_summaries/mnist-grid-relu-bn-relu-bn-44x12-ks-3-3-lp-p-same-ub-true-crossentropy-adam-0-001-bs-1024-2019-06-21-23-46-59\n",
      "mnist_grid_summaries/mnist-grid-relu-bn-relu-bn-8x2-ks-none-lp-p-same-ub-true-crossentropy-adam-0-001-bs-1024-2019-06-17-16-41-53\n",
      "mnist_grid_summaries/mnist-grid-separating-relu-separating-relu-36x4-ks-none-lp-p-same-sr-1e-08-ub-true-a-0-1-crossentropy-adam-0-001-bs-1024-2019-06-17-21-51-21\n",
      "mnist_grid_summaries/mnist-grid-relu-bn-relu-bn-1x4-ks-3-3-lp-p-same-ub-true-crossentropy-adam-0-001-bs-1024-2019-06-18-17-34-45\n",
      "mnist_grid_summaries/mnist-grid-relu-bn-relu-bn-2x4-ks-3-3-lp-p-same-ub-true-crossentropy-adam-0-001-bs-1024-2019-06-18-17-36-16\n",
      "mnist_grid_summaries/mnist-grid-separating-relu-separating-relu-20x8-ks-none-lp-p-same-sr-1e-08-ub-true-a-0-1-crossentropy-adam-0-001-bs-1024-2019-06-17-18-23-33\n",
      "mnist_grid_summaries/mnist-grid-separating-relu-separating-relu-68x2-ks-3-3-lp-p-same-sr-1e-08-ub-true-a-0-1-crossentropy-adam-0-001-bs-1024-2019-06-21-20-35-49\n",
      "mnist_grid_summaries/mnist-grid-separating-relu-separating-relu-20x4-ks-none-lp-p-same-sr-1e-08-ub-true-a-0-1-crossentropy-adam-0-001-bs-512-2019-06-18-15-39-17\n",
      "mnist_grid_summaries/mnist-grid-separating-relu-separating-relu-12x2-ks-none-lp-p-same-sr-1e-08-ub-true-a-0-1-crossentropy-adam-0-001-bs-1024-2019-06-17-17-36-32\n",
      "mnist_grid_summaries/mnist-grid-relu-bn-relu-bn-32x12-ks-3-3-lp-p-same-ub-true-crossentropy-adam-0-001-bs-1024-2019-06-21-22-16-19\n"
     ]
    },
    {
     "name": "stderr",
     "output_type": "stream",
     "text": [
      "\r",
      "  6%|▌         | 26/459 [00:00<00:08, 52.82it/s]"
     ]
    },
    {
     "name": "stdout",
     "output_type": "stream",
     "text": [
      "mnist_grid_summaries/mnist-grid-separating-relu-separating-relu-32x16-ks-3-3-lp-p-same-sr-1e-08-ub-true-a-0-1-crossentropy-adam-0-001-bs-1024-2019-06-21-23-54-31\n",
      "mnist_grid_summaries/mnist-grid-relu-bn-relu-bn-56x2-ks-none-lp-p-same-ub-true-crossentropy-adam-0-001-bs-1024-2019-06-18-02-23-52\n",
      "mnist_grid_summaries/mnist-grid-separating-relu-separating-relu-20x4-ks-none-lp-p-same-sr-1e-08-ub-true-a-0-1-crossentropy-adam-0-001-bs-128-2019-06-18-15-45-19\n",
      "mnist_grid_summaries/mnist-grid-separating-relu-separating-relu-12x12-ks-3-3-lp-p-same-sr-1e-08-ub-true-a-0-1-crossentropy-adam-0-001-bs-1024-2019-06-21-21-00-56\n",
      "mnist_grid_summaries/mnist-grid-relu-bn-relu-bn-4x12-ks-3-3-lp-p-same-ub-true-crossentropy-adam-0-001-bs-1024-2019-06-21-20-41-29\n"
     ]
    },
    {
     "name": "stderr",
     "output_type": "stream",
     "text": [
      "\r",
      "  8%|▊         | 35/459 [00:00<00:07, 60.00it/s]"
     ]
    },
    {
     "name": "stdout",
     "output_type": "stream",
     "text": [
      "mnist_grid_summaries/mnist-grid-separating-relu-separating-relu-20x2-ks-3-3-lp-p-same-sr-1e-08-ub-true-a-0-1-crossentropy-adam-0-001-bs-1024-2019-06-18-16-36-52\n",
      "mnist_grid_summaries/mnist-grid-relu-bn-relu-bn-44x8-ks-none-lp-p-same-ub-true-crossentropy-adam-0-001-bs-1024-2019-06-17-23-07-24\n",
      "mnist_grid_summaries/mnist-grid-relu-bn-relu-bn-8x32-ks-none-lp-p-same-ub-true-crossentropy-adam-0-001-bs-64-2019-06-06-16-31-18\n",
      "mnist_grid_summaries/mnist-grid-separating-relu-separating-relu-16x16-ks-3-3-lp-p-same-sr-1e-08-ub-true-a-0-1-crossentropy-adam-0-001-bs-1024-2019-06-21-21-30-15\n",
      "mnist_grid_summaries/mnist-grid-relu-relu-2x2-ks-none-lp-p-same-ub-true-crossentropy-adam-0-001-bs-1024-2019-06-06-14-22-58\n",
      "mnist_grid_summaries/mnist-grid-separating-relu-separating-relu-52x2-ks-3-3-lp-p-same-sr-1e-08-ub-true-a-0-1-crossentropy-adam-0-001-bs-1024-2019-06-18-21-54-47\n",
      "mnist_grid_summaries/mnist-grid-relu-bn-relu-bn-2x128-ks-none-lp-p-same-ub-true-crossentropy-adam-0-001-bs-128-2019-06-04-23-59-48\n",
      "mnist_grid_summaries/mnist-grid-relu-relu-60x4-ks-none-lp-p-same-ub-true-crossentropy-adam-0-001-bs-1024-2019-06-18-23-11-23\n",
      "mnist_grid_summaries/mnist-grid-relu-bn-relu-bn-4x2-ks-none-lp-p-same-ub-true-crossentropy-adam-0-001-bs-64-2019-06-06-14-49-55\n",
      "mnist_grid_summaries/mnist-grid-relu-bn-relu-bn-16x8-ks-3-3-lp-p-same-ub-true-crossentropy-adam-0-001-bs-1024-2019-06-18-18-04-13\n",
      "mnist_grid_summaries/mnist-grid-relu-relu-40x2-ks-none-lp-p-same-ub-true-crossentropy-adam-0-001-bs-1024-2019-06-18-17-48-34\n",
      "mnist_grid_summaries/mnist-grid-separating-relu-separating-relu-36x2-ks-none-lp-p-same-sr-1e-08-ub-true-a-0-1-crossentropy-adam-0-001-bs-1024-2019-06-17-21-29-06\n",
      "mnist_grid_summaries/mnist-grid-relu-relu-64x8-ks-none-lp-p-same-ub-true-crossentropy-adam-0-001-bs-1024-2019-06-19-00-43-32\n"
     ]
    },
    {
     "name": "stderr",
     "output_type": "stream",
     "text": [
      "\r",
      " 10%|▉         | 45/459 [00:00<00:06, 67.47it/s]"
     ]
    },
    {
     "name": "stdout",
     "output_type": "stream",
     "text": [
      "mnist_grid_summaries/mnist-grid-relu-bn-relu-bn-2x8-ks-3-3-lp-p-same-ub-true-crossentropy-adam-0-001-bs-1024-2019-06-18-17-36-55\n",
      "mnist_grid_summaries/mnist-grid-relu-bn-relu-bn-44x16-ks-3-3-lp-p-same-ub-true-crossentropy-adam-0-001-bs-1024-2019-06-22-00-04-12\n",
      "mnist_grid_summaries/mnist-grid-relu-bn-relu-bn-2x16-ks-3-3-lp-p-same-ub-true-crossentropy-adam-0-001-bs-1024-2019-06-21-20-40-26\n",
      "mnist_grid_summaries/mnist-grid-separating-relu-separating-relu-64x8-ks-3-3-lp-p-same-sr-1e-08-ub-true-a-0-1-crossentropy-adam-0-001-bs-1024-2019-06-19-01-58-05\n",
      "mnist_grid_summaries/mnist-grid-relu-relu-28x8-ks-none-lp-p-same-ub-true-crossentropy-adam-0-001-bs-1024-2019-06-18-16-10-42\n",
      "mnist_grid_summaries/mnist-grid-relu-bn-relu-bn-8x12-ks-3-3-lp-p-same-ub-true-crossentropy-adam-0-001-bs-1024-2019-06-21-20-45-03\n"
     ]
    },
    {
     "name": "stderr",
     "output_type": "stream",
     "text": [
      "\r",
      " 12%|█▏        | 55/459 [00:00<00:05, 74.15it/s]"
     ]
    },
    {
     "name": "stdout",
     "output_type": "stream",
     "text": [
      "mnist_grid_summaries/mnist-grid-separating-relu-separating-relu-20x4-ks-none-lp-p-same-sr-1e-08-ub-true-a-0-1-crossentropy-adam-0-001-bs-1024-2019-06-18-15-43-26\n",
      "mnist_grid_summaries/mnist-grid-separating-relu-separating-relu-52x4-ks-3-3-lp-p-same-sr-1e-08-ub-true-a-0-1-crossentropy-adam-0-001-bs-1024-2019-06-18-22-09-55\n",
      "mnist_grid_summaries/mnist-grid-relu-bn-relu-bn-72x2-ks-3-3-lp-p-same-ub-true-crossentropy-adam-0-001-bs-1024-2019-06-21-22-15-21\n",
      "mnist_grid_summaries/mnist-grid-relu-bn-relu-bn-72x8-ks-3-3-lp-p-same-ub-true-crossentropy-adam-0-001-bs-1024-2019-06-21-22-44-56\n",
      "mnist_grid_summaries/mnist-grid-separating-relu-separating-relu-40x16-ks-3-3-lp-p-same-sr-1e-08-ub-true-a-0-1-crossentropy-adam-0-001-bs-1024-2019-06-22-01-42-12\n",
      "mnist_grid_summaries/mnist-grid-separating-relu-separating-relu-40x2-ks-none-lp-p-same-sr-1e-08-ub-true-a-0-1-crossentropy-adam-0-001-bs-1024-2019-06-17-22-39-15\n",
      "mnist_grid_summaries/mnist-grid-relu-relu-36x8-ks-none-lp-p-same-ub-true-crossentropy-adam-0-001-bs-1024-2019-06-18-17-29-48\n",
      "mnist_grid_summaries/mnist-grid-relu-bn-relu-bn-28x12-ks-3-3-lp-p-same-ub-true-crossentropy-adam-0-001-bs-1024-2019-06-21-21-52-32\n",
      "mnist_grid_summaries/mnist-grid-relu-relu-48x4-ks-none-lp-p-same-ub-true-crossentropy-adam-0-001-bs-1024-2019-06-18-19-52-24\n",
      "mnist_grid_summaries/mnist-grid-relu-bn-relu-bn-72x12-ks-3-3-lp-p-same-ub-true-crossentropy-adam-0-001-bs-1024-2019-06-21-23-07-03\n",
      "mnist_grid_summaries/mnist-grid-relu-bn-relu-bn-56x8-ks-3-3-lp-p-same-ub-true-crossentropy-adam-0-001-bs-1024-2019-06-18-23-03-31\n",
      "mnist_grid_summaries/mnist-grid-separating-relu-separating-relu-56x2-ks-3-3-lp-p-same-sr-1e-08-ub-true-a-0-1-crossentropy-adam-0-001-bs-1024-2019-06-18-22-56-10\n",
      "mnist_grid_summaries/mnist-grid-separating-relu-separating-relu-2x8-ks-none-lp-p-same-sr-0-0001-ub-true-a-0-1-crossentropy-adam-0-001-bs-1024-2019-06-06-14-06-43\n",
      "mnist_grid_summaries/mnist-grid-relu-relu-8x16-ks-none-lp-p-same-ub-true-crossentropy-adam-0-001-bs-1024-2019-06-06-14-47-11\n"
     ]
    },
    {
     "name": "stderr",
     "output_type": "stream",
     "text": [
      "\r",
      " 14%|█▍        | 66/459 [00:00<00:04, 80.89it/s]"
     ]
    },
    {
     "name": "stdout",
     "output_type": "stream",
     "text": [
      "mnist_grid_summaries/mnist-grid-relu-bn-relu-bn-4x16-ks-3-3-lp-p-same-ub-true-crossentropy-adam-0-001-bs-1024-2019-06-21-20-43-08\n",
      "mnist_grid_summaries/mnist-grid-relu-bn-relu-bn-12x2-ks-3-3-lp-p-same-ub-true-crossentropy-adam-0-001-bs-1024-2019-06-18-17-47-38\n",
      "mnist_grid_summaries/mnist-grid-separating-relu-separating-relu-16x16-ks-none-lp-p-same-sr-1e-08-ub-true-a-0-1-crossentropy-adam-0-001-bs-1024-2019-06-06-17-07-27\n",
      "mnist_grid_summaries/mnist-grid-relu-relu-8x4-ks-none-lp-p-same-ub-true-crossentropy-adam-0-001-bs-1024-2019-06-06-14-40-33\n",
      "mnist_grid_summaries/mnist-grid-relu-relu-12x2-ks-3-3-lp-p-same-ub-true-crossentropy-adam-0-001-bs-1024-2019-06-20-13-48-13\n",
      "mnist_grid_summaries/mnist-grid-relu-bn-relu-bn-4x128-ks-none-lp-p-same-ub-true-crossentropy-adam-0-001-bs-128-2019-06-05-00-30-38\n"
     ]
    },
    {
     "name": "stderr",
     "output_type": "stream",
     "text": [
      "\r",
      " 17%|█▋        | 76/459 [00:00<00:04, 85.20it/s]"
     ]
    },
    {
     "name": "stdout",
     "output_type": "stream",
     "text": [
      "mnist_grid_summaries/mnist-grid-relu-bn-relu-bn-24x4-ks-none-lp-p-same-ub-true-crossentropy-adam-0-001-bs-1024-2019-06-17-18-25-57\n",
      "mnist_grid_summaries/mnist-grid-relu-relu-12x4-ks-3-3-lp-p-same-ub-true-crossentropy-adam-0-001-bs-1024-2019-06-20-13-49-25\n",
      "mnist_grid_summaries/mnist-grid-separating-relu-separating-relu-64x4-ks-none-lp-p-same-sr-1e-08-ub-true-a-0-1-crossentropy-adam-0-001-bs-1024-2019-06-18-08-49-33\n",
      "mnist_grid_summaries/mnist-grid-relu-bn-relu-bn-8x4-ks-none-lp-p-same-ub-true-crossentropy-adam-0-001-bs-64-2019-06-06-15-49-33\n",
      "mnist_grid_summaries/mnist-grid-separating-relu-separating-relu-12x8-ks-none-lp-p-same-sr-1e-08-ub-true-a-0-1-crossentropy-adam-0-001-bs-1024-2019-06-17-17-50-22\n",
      "mnist_grid_summaries/mnist-grid-relu-bn-relu-bn-40x4-ks-none-lp-p-same-ub-true-crossentropy-adam-0-001-bs-1024-2019-06-17-21-42-38\n",
      "mnist_grid_summaries/mnist-grid-relu-bn-relu-bn-4x8-ks-none-lp-p-same-ub-true-crossentropy-adam-0-001-bs-1024-2019-06-17-16-39-15\n",
      "mnist_grid_summaries/mnist-grid-relu-relu-24x4-ks-none-lp-p-same-ub-true-crossentropy-adam-0-001-bs-1024-2019-06-18-15-31-52\n",
      "mnist_grid_summaries/mnist-grid-relu-relu-8x2-ks-none-lp-p-same-ub-true-crossentropy-adam-0-001-bs-1024-2019-06-06-14-37-05\n",
      "mnist_grid_summaries/mnist-grid-separating-relu-separating-relu-52x4-ks-none-lp-p-same-sr-1e-08-ub-true-a-0-1-crossentropy-adam-0-001-bs-1024-2019-06-18-03-09-08\n",
      "mnist_grid_summaries/mnist-grid-relu-bn-relu-bn-60x8-ks-none-lp-p-same-ub-true-crossentropy-adam-0-001-bs-1024-2019-06-18-05-03-08\n",
      "mnist_grid_summaries/mnist-grid-separating-relu-separating-relu-56x4-ks-none-lp-p-same-sr-1e-08-ub-true-a-0-1-crossentropy-adam-0-001-bs-1024-2019-06-18-04-54-23\n",
      "mnist_grid_summaries/mnist-grid-relu-relu-1x8-ks-3-3-lp-p-same-ub-true-crossentropy-adam-0-001-bs-1024-2019-06-20-13-40-42\n",
      "mnist_grid_summaries/mnist-grid-relu-bn-relu-bn-28x16-ks-3-3-lp-p-same-ub-true-crossentropy-adam-0-001-bs-1024-2019-06-21-22-03-25\n"
     ]
    },
    {
     "name": "stderr",
     "output_type": "stream",
     "text": [
      "\r",
      " 19%|█▊        | 86/459 [00:01<00:04, 88.20it/s]"
     ]
    },
    {
     "name": "stdout",
     "output_type": "stream",
     "text": [
      "mnist_grid_summaries/mnist-grid-relu-bn-relu-bn-48x8-ks-none-lp-p-same-ub-true-crossentropy-adam-0-001-bs-1024-2019-06-18-00-23-31\n",
      "mnist_grid_summaries/mnist-grid-relu-relu-32x8-ks-none-lp-p-same-ub-true-crossentropy-adam-0-001-bs-1024-2019-06-18-16-47-45\n",
      "mnist_grid_summaries/mnist-grid-relu-bn-relu-bn-60x12-ks-3-3-lp-p-same-ub-true-crossentropy-adam-0-001-bs-1024-2019-06-22-02-42-00\n",
      "mnist_grid_summaries/mnist-grid-relu-bn-relu-bn-20x8-ks-none-lp-p-same-ub-true-crossentropy-adam-0-001-bs-1024-2019-06-17-18-00-34\n",
      "mnist_grid_summaries/mnist-grid-separating-relu-separating-relu-44x4-ks-3-3-lp-p-same-sr-1e-08-ub-true-a-0-1-crossentropy-adam-0-001-bs-1024-2019-06-18-20-20-12\n"
     ]
    },
    {
     "name": "stderr",
     "output_type": "stream",
     "text": [
      "\r",
      " 21%|██        | 96/459 [00:01<00:04, 86.51it/s]"
     ]
    },
    {
     "name": "stdout",
     "output_type": "stream",
     "text": [
      "mnist_grid_summaries/mnist-grid-relu-bn-relu-bn-28x2-ks-none-lp-p-same-ub-true-crossentropy-adam-0-001-bs-1024-2019-06-17-18-51-01\n",
      "mnist_grid_summaries/mnist-grid-separating-relu-separating-relu-8x2-ks-3-3-lp-p-same-sr-1e-08-ub-true-a-0-1-crossentropy-adam-0-001-bs-1024-2019-06-18-15-53-09\n",
      "mnist_grid_summaries/mnist-grid-relu-bn-relu-bn-1x2-ks-3-3-lp-p-same-ub-true-crossentropy-adam-0-001-bs-1024-2019-06-18-17-34-19\n",
      "mnist_grid_summaries/mnist-grid-relu-bn-relu-bn-2x32-ks-none-lp-p-same-ub-true-crossentropy-adam-0-001-bs-64-2019-06-06-14-41-52\n",
      "mnist_grid_summaries/mnist-grid-relu-relu-12x2-ks-none-lp-p-same-ub-true-crossentropy-adam-0-001-bs-1024-2019-06-18-14-43-00\n",
      "mnist_grid_summaries/mnist-grid-separating-relu-separating-relu-24x4-ks-none-lp-p-same-sr-1e-08-ub-true-a-0-1-crossentropy-adam-0-001-bs-1024-2019-06-17-18-55-29\n",
      "mnist_grid_summaries/mnist-grid-relu-relu-36x8-ks-3-3-lp-p-same-ub-true-crossentropy-adam-0-001-bs-1024-2019-06-20-14-50-08\n",
      "mnist_grid_summaries/mnist-grid-relu-bn-relu-bn-28x2-ks-3-3-lp-p-same-ub-true-crossentropy-adam-0-001-bs-1024-2019-06-18-18-43-53\n",
      "mnist_grid_summaries/mnist-grid-relu-relu-16x4-ks-none-lp-p-same-ub-true-crossentropy-adam-0-001-bs-1024-2019-06-06-15-36-25\n",
      "mnist_grid_summaries/mnist-grid-separating-relu-separating-relu-20x4-ks-none-lp-p-same-sr-1e-12-ub-true-a-0-1-crossentropy-adam-0-001-bs-1024-2019-06-18-15-48-52\n",
      "mnist_grid_summaries/mnist-grid-separating-relu-separating-relu-24x8-ks-none-lp-p-same-sr-1e-08-ub-true-a-0-1-crossentropy-adam-0-001-bs-1024-2019-06-17-19-08-09\n",
      "mnist_grid_summaries/mnist-grid-relu-relu-28x8-ks-3-3-lp-p-same-ub-true-crossentropy-adam-0-001-bs-1024-2019-06-20-14-23-53\n",
      "mnist_grid_summaries/mnist-grid-relu-bn-relu-bn-44x4-ks-none-lp-p-same-ub-true-crossentropy-adam-0-001-bs-1024-2019-06-17-22-48-56\n",
      "mnist_grid_summaries/mnist-grid-relu-bn-relu-bn-16x128-ks-none-lp-p-same-ub-true-crossentropy-adam-0-001-bs-128-2019-06-05-01-51-29\n",
      "mnist_grid_summaries/mnist-grid-separating-relu-separating-relu-2x4-ks-3-3-lp-p-same-sr-1e-08-ub-true-a-0-1-crossentropy-adam-0-001-bs-1024-2019-06-18-15-45-27\n",
      "mnist_grid_summaries/mnist-grid-relu-bn-relu-bn-36x12-ks-3-3-lp-p-same-ub-true-crossentropy-adam-0-001-bs-1024-2019-06-21-22-42-51\n",
      "mnist_grid_summaries/mnist-grid-relu-bn-relu-bn-20x8-ks-3-3-lp-p-same-ub-true-crossentropy-adam-0-001-bs-1024-2019-06-18-18-18-41\n"
     ]
    },
    {
     "name": "stderr",
     "output_type": "stream",
     "text": [
      " 25%|██▍       | 114/459 [00:01<00:04, 84.02it/s]"
     ]
    },
    {
     "name": "stdout",
     "output_type": "stream",
     "text": [
      "mnist_grid_summaries/mnist-grid-relu-bn-relu-bn-48x2-ks-none-lp-p-same-ub-true-crossentropy-adam-0-001-bs-1024-2019-06-17-23-36-34\n",
      "mnist_grid_summaries/mnist-grid-separating-relu-separating-relu-4x16-ks-3-3-lp-p-same-sr-1e-08-ub-true-a-0-1-crossentropy-adam-0-001-bs-1024-2019-06-21-20-44-44\n",
      "mnist_grid_summaries/mnist-grid-relu-bn-relu-bn-2x16-ks-none-lp-p-same-ub-true-crossentropy-adam-0-001-bs-64-2019-06-06-14-36-26\n",
      "mnist_grid_summaries/mnist-grid-relu-bn-relu-bn-60x2-ks-3-3-lp-p-same-ub-true-crossentropy-adam-0-001-bs-1024-2019-06-18-23-24-56\n",
      "mnist_grid_summaries/mnist-grid-separating-relu-separating-relu-8x2-ks-none-lp-p-same-sr-1e-06-ub-true-a-0-1-crossentropy-adam-0-001-bs-1024-2019-06-06-14-25-09\n",
      "mnist_grid_summaries/mnist-grid-relu-bn-relu-bn-24x2-ks-3-3-lp-p-same-ub-true-crossentropy-adam-0-001-bs-1024-2019-06-18-18-25-19\n",
      "mnist_grid_summaries/mnist-grid-relu-bn-relu-bn-12x8-ks-3-3-lp-p-same-ub-true-crossentropy-adam-0-001-bs-1024-2019-06-18-17-53-04\n",
      "mnist_grid_summaries/mnist-grid-relu-relu-20x2-ks-3-3-lp-p-same-ub-true-crossentropy-adam-0-001-bs-1024-2019-06-20-13-59-56\n",
      "mnist_grid_summaries/mnist-grid-relu-bn-relu-bn-68x4-ks-3-3-lp-p-same-ub-true-crossentropy-adam-0-001-bs-1024-2019-06-21-20-46-40\n",
      "mnist_grid_summaries/mnist-grid-relu-relu-64x2-ks-3-3-lp-p-same-ub-true-crossentropy-adam-0-001-bs-1024-2019-06-20-17-06-35\n",
      "mnist_grid_summaries/mnist-grid-separating-relu-separating-relu-12x2-ks-3-3-lp-p-same-sr-1e-08-ub-true-a-0-1-crossentropy-adam-0-001-bs-1024-2019-06-18-16-03-09\n",
      "mnist_grid_summaries/mnist-grid-relu-relu-60x8-ks-none-lp-p-same-ub-true-crossentropy-adam-0-001-bs-1024-2019-06-18-23-28-17\n",
      "mnist_grid_summaries/mnist-grid-relu-relu-12x4-ks-none-lp-p-same-ub-true-crossentropy-adam-0-001-bs-1024-2019-06-18-14-48-04\n",
      "mnist_grid_summaries/mnist-grid-relu-relu-4x32-ks-none-lp-p-same-ub-true-crossentropy-adam-0-001-bs-1024-2019-06-06-13-42-32\n",
      "mnist_grid_summaries/mnist-grid-separating-relu-separating-relu-36x2-ks-3-3-lp-p-same-sr-1e-08-ub-true-a-0-1-crossentropy-adam-0-001-bs-1024-2019-06-18-18-39-36\n",
      "mnist_grid_summaries/mnist-grid-separating-relu-separating-relu-4x8-ks-3-3-lp-p-same-sr-1e-08-ub-true-a-0-1-crossentropy-adam-0-001-bs-1024-2019-06-18-15-50-50\n",
      "mnist_grid_summaries/mnist-grid-separating-relu-separating-relu-28x16-ks-3-3-lp-p-same-sr-1e-08-ub-true-a-0-1-crossentropy-adam-0-001-bs-1024-2019-06-21-23-09-34\n",
      "mnist_grid_summaries/mnist-grid-separating-relu-separating-relu-8x2-ks-none-lp-p-same-sr-1e-08-ub-true-a-0-1-crossentropy-adam-0-001-bs-1024-2019-06-06-15-36-52\n"
     ]
    },
    {
     "name": "stderr",
     "output_type": "stream",
     "text": [
      " 29%|██▉       | 134/459 [00:01<00:03, 90.82it/s]"
     ]
    },
    {
     "name": "stdout",
     "output_type": "stream",
     "text": [
      "mnist_grid_summaries/mnist-grid-relu-bn-relu-bn-72x4-ks-3-3-lp-p-same-ub-true-crossentropy-adam-0-001-bs-1024-2019-06-21-22-28-36\n",
      "mnist_grid_summaries/mnist-grid-relu-bn-relu-bn-16x16-ks-3-3-lp-p-same-ub-true-crossentropy-adam-0-001-bs-1024-2019-06-21-21-08-12\n",
      "mnist_grid_summaries/mnist-grid-separating-relu-separating-relu-60x4-ks-3-3-lp-p-same-sr-1e-08-ub-true-a-0-1-crossentropy-adam-0-001-bs-1024-2019-06-19-00-20-47\n",
      "mnist_grid_summaries/mnist-grid-relu-bn-relu-bn-12x4-ks-3-3-lp-p-same-ub-true-crossentropy-adam-0-001-bs-1024-2019-06-18-17-50-07\n",
      "mnist_grid_summaries/mnist-grid-separating-relu-separating-relu-40x12-ks-3-3-lp-p-same-sr-1e-08-ub-true-a-0-1-crossentropy-adam-0-001-bs-1024-2019-06-22-01-15-48\n",
      "mnist_grid_summaries/mnist-grid-relu-relu-4x2-ks-3-3-lp-p-same-ub-true-crossentropy-adam-0-001-bs-1024-2019-06-20-13-42-30\n",
      "mnist_grid_summaries/mnist-grid-separating-relu-separating-relu-48x2-ks-none-lp-p-same-sr-1e-08-ub-true-a-0-1-crossentropy-adam-0-001-bs-1024-2019-06-18-01-02-44\n",
      "mnist_grid_summaries/mnist-grid-relu-bn-relu-bn-4x16-ks-none-lp-p-same-ub-true-crossentropy-adam-0-001-bs-64-2019-06-06-15-11-12\n",
      "mnist_grid_summaries/mnist-grid-separating-relu-separating-relu-28x2-ks-none-lp-p-same-sr-1e-08-ub-true-a-0-1-crossentropy-adam-0-001-bs-1024-2019-06-17-19-28-44\n",
      "mnist_grid_summaries/mnist-grid-separating-relu-separating-relu-44x8-ks-none-lp-p-same-sr-1e-08-ub-true-a-0-1-crossentropy-adam-0-001-bs-1024-2019-06-18-00-46-54\n",
      "mnist_grid_summaries/mnist-grid-relu-bn-relu-bn-8x16-ks-3-3-lp-p-same-ub-true-crossentropy-adam-0-001-bs-1024-2019-06-21-20-48-11\n",
      "mnist_grid_summaries/mnist-grid-relu-relu-48x8-ks-3-3-lp-p-same-ub-true-crossentropy-adam-0-001-bs-1024-2019-06-20-15-43-28\n",
      "mnist_grid_summaries/mnist-grid-separating-relu-separating-relu-8x16-ks-none-lp-p-same-sr-1e-06-ub-true-a-0-1-crossentropy-adam-0-001-bs-1024-2019-06-06-14-41-26\n",
      "mnist_grid_summaries/mnist-grid-relu-bn-relu-bn-36x8-ks-3-3-lp-p-same-ub-true-crossentropy-adam-0-001-bs-1024-2019-06-18-19-47-29\n",
      "mnist_grid_summaries/mnist-grid-relu-bn-relu-bn-32x16-ks-3-3-lp-p-same-ub-true-crossentropy-adam-0-001-bs-1024-2019-06-21-22-28-25\n",
      "mnist_grid_summaries/mnist-grid-relu-bn-relu-bn-72x2-ks-3-3-lp-p-same-ub-true-crossentropy-adam-0-001-bs-1024-2019-06-21-22-14-55\n",
      "mnist_grid_summaries/mnist-grid-relu-bn-relu-bn-20x4-ks-3-3-lp-p-same-ub-true-crossentropy-adam-0-001-bs-1024-2019-06-18-18-13-47\n",
      "mnist_grid_summaries/mnist-grid-relu-bn-relu-bn-8x2-ks-3-3-lp-p-same-ub-true-crossentropy-adam-0-001-bs-1024-2019-06-18-17-41-08\n",
      "mnist_grid_summaries/mnist-grid-separating-relu-separating-relu-20x4-ks-none-lp-p-same-sr-0-0001-ub-true-a-0-1-crossentropy-adam-0-001-bs-1024-2019-06-18-15-38-03\n"
     ]
    },
    {
     "name": "stderr",
     "output_type": "stream",
     "text": [
      " 34%|███▎      | 154/459 [00:01<00:03, 91.33it/s]"
     ]
    },
    {
     "name": "stdout",
     "output_type": "stream",
     "text": [
      "mnist_grid_summaries/mnist-grid-relu-relu-44x4-ks-3-3-lp-p-same-ub-true-crossentropy-adam-0-001-bs-1024-2019-06-20-15-18-10\n",
      "mnist_grid_summaries/mnist-grid-relu-relu-32x8-ks-3-3-lp-p-same-ub-true-crossentropy-adam-0-001-bs-1024-2019-06-20-14-36-06\n",
      "mnist_grid_summaries/mnist-grid-relu-bn-relu-bn-16x4-ks-3-3-lp-p-same-ub-true-crossentropy-adam-0-001-bs-1024-2019-06-18-18-00-19\n",
      "mnist_grid_summaries/mnist-grid-separating-relu-separating-relu-8x2-ks-none-lp-p-same-sr-0-0001-ub-true-a-0-1-crossentropy-adam-0-001-bs-1024-2019-06-06-14-48-51\n",
      "mnist_grid_summaries/mnist-grid-relu-bn-relu-bn-44x4-ks-3-3-lp-p-same-ub-true-crossentropy-adam-0-001-bs-1024-2019-06-18-20-41-04\n",
      "mnist_grid_summaries/mnist-grid-relu-relu-20x4-ks-3-3-lp-p-same-ub-true-crossentropy-adam-0-001-bs-1024-2019-06-20-14-01-49\n",
      "mnist_grid_summaries/mnist-grid-relu-relu-32x2-ks-3-3-lp-p-same-ub-true-crossentropy-adam-0-001-bs-1024-2019-06-20-14-29-09\n",
      "mnist_grid_summaries/mnist-grid-relu-bn-relu-bn-64x4-ks-none-lp-p-same-ub-true-crossentropy-adam-0-001-bs-1024-2019-06-18-06-25-11\n",
      "mnist_grid_summaries/mnist-grid-separating-relu-separating-relu-24x2-ks-none-lp-p-same-sr-1e-08-ub-true-a-0-1-crossentropy-adam-0-001-bs-1024-2019-06-17-18-40-37\n",
      "mnist_grid_summaries/mnist-grid-relu-bn-relu-bn-52x8-ks-3-3-lp-p-same-ub-true-crossentropy-adam-0-001-bs-1024-2019-06-18-22-15-05\n",
      "mnist_grid_summaries/mnist-grid-relu-bn-relu-bn-8x2-ks-none-lp-p-same-ub-true-crossentropy-adam-0-001-bs-64-2019-06-06-15-37-43\n",
      "mnist_grid_summaries/mnist-grid-relu-bn-relu-bn-28x4-ks-none-lp-p-same-ub-true-crossentropy-adam-0-001-bs-1024-2019-06-17-19-05-39\n",
      "mnist_grid_summaries/mnist-grid-separating-relu-separating-relu-2x32-ks-none-lp-p-same-sr-0-0001-ub-true-a-0-1-crossentropy-adam-0-001-bs-1024-2019-06-06-14-11-38\n",
      "mnist_grid_summaries/mnist-grid-relu-relu-44x8-ks-none-lp-p-same-ub-true-crossentropy-adam-0-001-bs-1024-2019-06-18-19-09-01\n",
      "mnist_grid_summaries/mnist-grid-separating-relu-separating-relu-68x4-ks-3-3-lp-p-same-sr-1e-08-ub-true-a-0-1-crossentropy-adam-0-001-bs-1024-2019-06-21-20-53-31\n",
      "mnist_grid_summaries/mnist-grid-relu-bn-relu-bn-20x2-ks-3-3-lp-p-same-ub-true-crossentropy-adam-0-001-bs-1024-2019-06-18-18-09-39\n"
     ]
    },
    {
     "name": "stderr",
     "output_type": "stream",
     "text": [
      " 38%|███▊      | 174/459 [00:02<00:03, 89.85it/s]"
     ]
    },
    {
     "name": "stdout",
     "output_type": "stream",
     "text": [
      "mnist_grid_summaries/mnist-grid-relu-relu-52x2-ks-3-3-lp-p-same-ub-true-crossentropy-adam-0-001-bs-1024-2019-06-20-15-53-02\n",
      "mnist_grid_summaries/mnist-grid-relu-relu-56x4-ks-3-3-lp-p-same-ub-true-crossentropy-adam-0-001-bs-1024-2019-06-20-16-21-23\n",
      "mnist_grid_summaries/mnist-grid-relu-bn-relu-bn-72x12-ks-3-3-lp-p-same-ub-true-crossentropy-adam-0-001-bs-1024-2019-06-21-23-07-22\n",
      "mnist_grid_summaries/mnist-grid-separating-relu-separating-relu-8x8-ks-none-lp-p-same-sr-1e-08-ub-true-a-0-1-crossentropy-adam-0-001-bs-1024-2019-06-06-15-46-06\n",
      "mnist_grid_summaries/mnist-grid-relu-bn-relu-bn-48x12-ks-3-3-lp-p-same-ub-true-crossentropy-adam-0-001-bs-1024-2019-06-22-00-24-28\n",
      "mnist_grid_summaries/mnist-grid-separating-relu-separating-relu-20x12-ks-3-3-lp-p-same-sr-1e-08-ub-true-a-0-1-crossentropy-adam-0-001-bs-1024-2019-06-21-21-44-01\n",
      "mnist_grid_summaries/mnist-grid-relu-relu-28x2-ks-3-3-lp-p-same-ub-true-crossentropy-adam-0-001-bs-1024-2019-06-20-14-17-51\n",
      "mnist_grid_summaries/mnist-grid-separating-relu-separating-relu-48x4-ks-3-3-lp-p-same-sr-1e-08-ub-true-a-0-1-crossentropy-adam-0-001-bs-1024-2019-06-18-21-12-38\n",
      "mnist_grid_summaries/mnist-grid-relu-bn-relu-bn-8x8-ks-3-3-lp-p-same-ub-true-crossentropy-adam-0-001-bs-1024-2019-06-18-17-44-54\n",
      "mnist_grid_summaries/mnist-grid-separating-relu-separating-relu-28x8-ks-3-3-lp-p-same-sr-1e-08-ub-true-a-0-1-crossentropy-adam-0-001-bs-1024-2019-06-18-17-47-11\n",
      "mnist_grid_summaries/mnist-grid-relu-bn-relu-bn-32x4-ks-none-lp-p-same-ub-true-crossentropy-adam-0-001-bs-1024-2019-06-17-17-10-49\n",
      "mnist_grid_summaries/mnist-grid-separating-relu-separating-relu-24x8-ks-3-3-lp-p-same-sr-1e-08-ub-true-a-0-1-crossentropy-adam-0-001-bs-1024-2019-06-18-17-16-19\n",
      "mnist_grid_summaries/mnist-grid-relu-relu-60x4-ks-3-3-lp-p-same-ub-true-crossentropy-adam-0-001-bs-1024-2019-06-20-16-46-34\n",
      "mnist_grid_summaries/mnist-grid-relu-bn-relu-bn-52x2-ks-3-3-lp-p-same-ub-true-crossentropy-adam-0-001-bs-1024-2019-06-18-21-48-23\n",
      "mnist_grid_summaries/mnist-grid-relu-bn-relu-bn-32x2-ks-none-lp-p-same-ub-true-crossentropy-adam-0-001-bs-1024-2019-06-17-16-54-33\n",
      "mnist_grid_summaries/mnist-grid-relu-bn-relu-bn-68x8-ks-3-3-lp-p-same-ub-true-crossentropy-adam-0-001-bs-1024-2019-06-21-20-59-38\n",
      "mnist_grid_summaries/mnist-grid-relu-bn-relu-bn-12x12-ks-3-3-lp-p-same-ub-true-crossentropy-adam-0-001-bs-1024-2019-06-21-20-51-53\n",
      "mnist_grid_summaries/mnist-grid-separating-relu-separating-relu-8x32-ks-none-lp-p-same-sr-1e-06-ub-true-a-0-1-crossentropy-adam-0-001-bs-1024-2019-06-06-14-54-49\n",
      "mnist_grid_summaries/mnist-grid-separating-relu-separating-relu-60x8-ks-none-lp-p-same-sr-1e-08-ub-true-a-0-1-crossentropy-adam-0-001-bs-1024-2019-06-18-07-19-36\n"
     ]
    },
    {
     "name": "stderr",
     "output_type": "stream",
     "text": [
      "\r",
      " 40%|████      | 184/459 [00:02<00:03, 87.60it/s]"
     ]
    },
    {
     "name": "stdout",
     "output_type": "stream",
     "text": [
      "mnist_grid_summaries/mnist-grid-relu-bn-relu-bn-36x2-ks-none-lp-p-same-ub-true-crossentropy-adam-0-001-bs-1024-2019-06-17-20-24-40\n",
      "mnist_grid_summaries/mnist-grid-relu-bn-relu-bn-28x8-ks-none-lp-p-same-ub-true-crossentropy-adam-0-001-bs-1024-2019-06-17-19-16-47\n",
      "mnist_grid_summaries/mnist-grid-relu-bn-relu-bn-48x2-ks-3-3-lp-p-same-ub-true-crossentropy-adam-0-001-bs-1024-2019-06-18-21-07-41\n",
      "mnist_grid_summaries/mnist-grid-relu-bn-relu-bn-2x4-ks-none-lp-p-same-ub-true-crossentropy-adam-0-001-bs-64-2019-06-06-14-28-06\n",
      "mnist_grid_summaries/mnist-grid-relu-bn-relu-bn-20x2-ks-none-lp-p-same-ub-true-crossentropy-adam-0-001-bs-1024-2019-06-17-17-42-30\n",
      "mnist_grid_summaries/mnist-grid-separating-relu-separating-relu-64x4-ks-3-3-lp-p-same-sr-1e-08-ub-true-a-0-1-crossentropy-adam-0-001-bs-1024-2019-06-19-01-34-01\n",
      "mnist_grid_summaries/mnist-grid-relu-relu-56x8-ks-none-lp-p-same-ub-true-crossentropy-adam-0-001-bs-1024-2019-06-18-22-16-07\n",
      "mnist_grid_summaries/mnist-grid-separating-relu-separating-relu-16x2-ks-3-3-lp-p-same-sr-1e-08-ub-true-a-0-1-crossentropy-adam-0-001-bs-1024-2019-06-18-16-17-44\n",
      "mnist_grid_summaries/mnist-grid-relu-relu-16x8-ks-3-3-lp-p-same-ub-true-crossentropy-adam-0-001-bs-1024-2019-06-20-13-56-52\n",
      "mnist_grid_summaries/mnist-grid-relu-relu-60x2-ks-none-lp-p-same-ub-true-crossentropy-adam-0-001-bs-1024-2019-06-18-22-45-47\n",
      "mnist_grid_summaries/mnist-grid-separating-relu-separating-relu-8x8-ks-none-lp-p-same-sr-0-0001-ub-true-a-0-1-crossentropy-adam-0-001-bs-1024-2019-06-06-14-58-15\n",
      "mnist_grid_summaries/mnist-grid-separating-relu-separating-relu-4x2-ks-none-lp-p-same-sr-0-0001-ub-true-a-0-1-crossentropy-adam-0-001-bs-1024-2019-06-06-14-18-21\n"
     ]
    },
    {
     "name": "stderr",
     "output_type": "stream",
     "text": [
      "\r",
      " 42%|████▏     | 193/459 [00:02<00:03, 87.05it/s]"
     ]
    },
    {
     "name": "stdout",
     "output_type": "stream",
     "text": [
      "mnist_grid_summaries/mnist-grid-relu-relu-52x4-ks-none-lp-p-same-ub-true-crossentropy-adam-0-001-bs-1024-2019-06-18-20-53-29\n",
      "mnist_grid_summaries/mnist-grid-separating-relu-separating-relu-56x4-ks-3-3-lp-p-same-sr-1e-08-ub-true-a-0-1-crossentropy-adam-0-001-bs-1024-2019-06-18-23-12-39\n",
      "mnist_grid_summaries/mnist-grid-relu-relu-16x128-ks-none-lp-p-same-ub-true-crossentropy-adam-0-001-bs-128-2019-06-05-01-43-22\n",
      "mnist_grid_summaries/mnist-grid-relu-relu-32x4-ks-3-3-lp-p-same-ub-true-crossentropy-adam-0-001-bs-1024-2019-06-20-14-32-09\n",
      "mnist_grid_summaries/mnist-grid-separating-relu-separating-relu-12x16-ks-3-3-lp-p-same-sr-1e-08-ub-true-a-0-1-crossentropy-adam-0-001-bs-1024-2019-06-21-21-09-05\n"
     ]
    },
    {
     "name": "stderr",
     "output_type": "stream",
     "text": [
      "\r",
      " 44%|████▍     | 202/459 [00:02<00:03, 83.50it/s]"
     ]
    },
    {
     "name": "stdout",
     "output_type": "stream",
     "text": [
      "mnist_grid_summaries/mnist-grid-separating-relu-separating-relu-32x8-ks-3-3-lp-p-same-sr-1e-08-ub-true-a-0-1-crossentropy-adam-0-001-bs-1024-2019-06-18-18-22-41\n",
      "mnist_grid_summaries/mnist-grid-relu-relu-64x2-ks-none-lp-p-same-ub-true-crossentropy-adam-0-001-bs-1024-2019-06-18-23-58-23\n",
      "mnist_grid_summaries/mnist-grid-separating-relu-separating-relu-20x2-ks-none-lp-p-same-sr-1e-08-ub-true-a-0-1-crossentropy-adam-0-001-bs-1024-2019-06-17-18-00-40\n",
      "mnist_grid_summaries/mnist-grid-separating-relu-separating-relu-20x4-ks-none-lp-p-same-sr-1e-16-ub-true-a-0-1-crossentropy-adam-0-001-bs-1024-2019-06-18-15-54-18\n",
      "mnist_grid_summaries/mnist-grid-relu-relu-12x8-ks-3-3-lp-p-same-ub-true-crossentropy-adam-0-001-bs-1024-2019-06-20-13-50-58\n",
      "mnist_grid_summaries/mnist-grid-relu-relu-48x4-ks-3-3-lp-p-same-ub-true-crossentropy-adam-0-001-bs-1024-2019-06-20-15-37-04\n",
      "mnist_grid_summaries/mnist-grid-separating-relu-separating-relu-8x32-ks-none-lp-p-same-sr-1e-08-ub-true-a-0-1-crossentropy-adam-0-001-bs-1024-2019-06-06-16-05-32\n",
      "mnist_grid_summaries/mnist-grid-relu-relu-56x4-ks-none-lp-p-same-ub-true-crossentropy-adam-0-001-bs-1024-2019-06-18-21-59-49\n",
      "mnist_grid_summaries/mnist-grid-relu-bn-relu-bn-2x12-ks-3-3-lp-p-same-ub-true-crossentropy-adam-0-001-bs-1024-2019-06-21-20-39-28\n",
      "mnist_grid_summaries/mnist-grid-separating-relu-separating-relu-44x2-ks-none-lp-p-same-sr-1e-08-ub-true-a-0-1-crossentropy-adam-0-001-bs-1024-2019-06-17-23-57-12\n",
      "mnist_grid_summaries/mnist-grid-relu-bn-relu-bn-72x4-ks-3-3-lp-p-same-ub-true-crossentropy-adam-0-001-bs-1024-2019-06-21-22-28-14\n"
     ]
    },
    {
     "name": "stderr",
     "output_type": "stream",
     "text": [
      "\r",
      " 46%|████▌     | 211/459 [00:02<00:02, 83.07it/s]"
     ]
    },
    {
     "name": "stdout",
     "output_type": "stream",
     "text": [
      "mnist_grid_summaries/mnist-grid-separating-relu-separating-relu-64x8-ks-none-lp-p-same-sr-1e-08-ub-true-a-0-1-crossentropy-adam-0-001-bs-1024-2019-06-18-09-23-06\n",
      "mnist_grid_summaries/mnist-grid-relu-bn-relu-bn-36x16-ks-3-3-lp-p-same-ub-true-crossentropy-adam-0-001-bs-1024-2019-06-21-22-56-32\n",
      "mnist_grid_summaries/mnist-grid-separating-relu-separating-relu-4x2-ks-3-3-lp-p-same-sr-1e-08-ub-true-a-0-1-crossentropy-adam-0-001-bs-1024-2019-06-18-15-47-45\n",
      "mnist_grid_summaries/mnist-grid-relu-bn-relu-bn-24x2-ks-none-lp-p-same-ub-true-crossentropy-adam-0-001-bs-1024-2019-06-17-18-13-31\n"
     ]
    },
    {
     "name": "stderr",
     "output_type": "stream",
     "text": [
      "\r",
      " 48%|████▊     | 220/459 [00:02<00:02, 80.02it/s]"
     ]
    },
    {
     "name": "stdout",
     "output_type": "stream",
     "text": [
      "mnist_grid_summaries/mnist-grid-relu-relu-28x4-ks-none-lp-p-same-ub-true-crossentropy-adam-0-001-bs-1024-2019-06-18-16-02-48\n",
      "mnist_grid_summaries/mnist-grid-relu-bn-relu-bn-40x12-ks-3-3-lp-p-same-ub-true-crossentropy-adam-0-001-bs-1024-2019-06-21-23-12-51\n",
      "mnist_grid_summaries/mnist-grid-separating-relu-separating-relu-44x4-ks-none-lp-p-same-sr-1e-08-ub-true-a-0-1-crossentropy-adam-0-001-bs-1024-2019-06-18-00-24-07\n",
      "mnist_grid_summaries/mnist-grid-relu-relu-44x2-ks-3-3-lp-p-same-ub-true-crossentropy-adam-0-001-bs-1024-2019-06-20-15-13-55\n",
      "mnist_grid_summaries/mnist-grid-relu-relu-4x16-ks-none-lp-p-same-ub-true-crossentropy-adam-0-001-bs-1024-2019-06-06-14-32-52\n",
      "mnist_grid_summaries/mnist-grid-relu-bn-relu-bn-44x2-ks-3-3-lp-p-same-ub-true-crossentropy-adam-0-001-bs-1024-2019-06-18-20-31-30\n",
      "mnist_grid_summaries/mnist-grid-relu-relu-48x8-ks-none-lp-p-same-ub-true-crossentropy-adam-0-001-bs-1024-2019-06-18-20-06-15\n",
      "mnist_grid_summaries/mnist-grid-relu-bn-relu-bn-52x16-ks-3-3-lp-p-same-ub-true-crossentropy-adam-0-001-bs-1024-2019-06-22-01-27-31\n",
      "mnist_grid_summaries/mnist-grid-relu-bn-relu-bn-60x8-ks-3-3-lp-p-same-ub-true-crossentropy-adam-0-001-bs-1024-2019-06-18-23-57-44\n",
      "mnist_grid_summaries/mnist-grid-relu-bn-relu-bn-12x16-ks-3-3-lp-p-same-ub-true-crossentropy-adam-0-001-bs-1024-2019-06-21-20-56-31\n",
      "mnist_grid_summaries/mnist-grid-relu-relu-8x8-ks-none-lp-p-same-ub-true-crossentropy-adam-0-001-bs-1024-2019-06-06-14-42-57\n",
      "mnist_grid_summaries/mnist-grid-relu-bn-relu-bn-32x8-ks-3-3-lp-p-same-ub-true-crossentropy-adam-0-001-bs-1024-2019-06-18-19-20-28\n"
     ]
    },
    {
     "name": "stderr",
     "output_type": "stream",
     "text": [
      "\r",
      " 50%|████▉     | 229/459 [00:02<00:02, 80.23it/s]"
     ]
    },
    {
     "name": "stdout",
     "output_type": "stream",
     "text": [
      "mnist_grid_summaries/mnist-grid-relu-bn-relu-bn-16x2-ks-3-3-lp-p-same-ub-true-crossentropy-adam-0-001-bs-1024-2019-06-18-17-57-05\n",
      "mnist_grid_summaries/mnist-grid-separating-relu-separating-relu-20x8-ks-3-3-lp-p-same-sr-1e-08-ub-true-a-0-1-crossentropy-adam-0-001-bs-1024-2019-06-18-16-50-01\n",
      "mnist_grid_summaries/mnist-grid-separating-relu-separating-relu-4x128-ks-none-lp-p-same-sr-0-0001-ub-true-a-0-1-crossentropy-adam-0-001-bs-128-2019-06-04-23-56-30\n",
      "mnist_grid_summaries/mnist-grid-relu-bn-relu-bn-16x12-ks-3-3-lp-p-same-ub-true-crossentropy-adam-0-001-bs-1024-2019-06-21-21-02-01\n"
     ]
    },
    {
     "name": "stderr",
     "output_type": "stream",
     "text": [
      "\r",
      " 52%|█████▏    | 238/459 [00:02<00:02, 81.39it/s]"
     ]
    },
    {
     "name": "stdout",
     "output_type": "stream",
     "text": [
      "mnist_grid_summaries/mnist-grid-separating-relu-separating-relu-8x16-ks-3-3-lp-p-same-sr-1e-08-ub-true-a-0-1-crossentropy-adam-0-001-bs-1024-2019-06-21-20-53-54\n",
      "mnist_grid_summaries/mnist-grid-relu-bn-relu-bn-20x12-ks-3-3-lp-p-same-ub-true-crossentropy-adam-0-001-bs-1024-2019-06-21-21-15-33\n",
      "mnist_grid_summaries/mnist-grid-relu-relu-52x8-ks-3-3-lp-p-same-ub-true-crossentropy-adam-0-001-bs-1024-2019-06-20-16-05-23\n",
      "mnist_grid_summaries/mnist-grid-relu-relu-60x2-ks-3-3-lp-p-same-ub-true-crossentropy-adam-0-001-bs-1024-2019-06-20-16-40-09\n",
      "mnist_grid_summaries/mnist-grid-relu-bn-relu-bn-4x2-ks-3-3-lp-p-same-ub-true-crossentropy-adam-0-001-bs-1024-2019-06-18-17-37-43\n",
      "mnist_grid_summaries/mnist-grid-separating-relu-separating-relu-52x2-ks-none-lp-p-same-sr-1e-08-ub-true-a-0-1-crossentropy-adam-0-001-bs-1024-2019-06-18-02-36-57\n",
      "mnist_grid_summaries/mnist-grid-relu-bn-relu-bn-68x12-ks-3-3-lp-p-same-ub-true-crossentropy-adam-0-001-bs-1024-2019-06-21-21-19-44\n",
      "mnist_grid_summaries/mnist-grid-relu-bn-relu-bn-60x2-ks-none-lp-p-same-ub-true-crossentropy-adam-0-001-bs-1024-2019-06-18-04-00-10\n",
      "mnist_grid_summaries/mnist-grid-relu-relu-1x4-ks-3-3-lp-p-same-ub-true-crossentropy-adam-0-001-bs-1024-2019-06-20-13-40-22\n",
      "mnist_grid_summaries/mnist-grid-separating-relu-separating-relu-36x8-ks-3-3-lp-p-same-sr-1e-08-ub-true-a-0-1-crossentropy-adam-0-001-bs-1024-2019-06-18-19-02-47\n",
      "mnist_grid_summaries/mnist-grid-separating-relu-separating-relu-4x4-ks-none-lp-p-same-sr-0-0001-ub-true-a-0-1-crossentropy-adam-0-001-bs-1024-2019-06-06-14-20-54\n",
      "mnist_grid_summaries/mnist-grid-relu-bn-relu-bn-64x12-ks-3-3-lp-p-same-ub-true-crossentropy-adam-0-001-bs-1024-2019-06-22-03-34-50\n",
      "mnist_grid_summaries/mnist-grid-separating-relu-separating-relu-4x16-ks-none-lp-p-same-sr-0-0001-ub-true-a-0-1-crossentropy-adam-0-001-bs-1024-2019-06-06-14-26-38\n",
      "mnist_grid_summaries/mnist-grid-relu-relu-40x2-ks-3-3-lp-p-same-ub-true-crossentropy-adam-0-001-bs-1024-2019-06-20-14-57-00\n",
      "mnist_grid_summaries/mnist-grid-separating-relu-separating-relu-2x8-ks-3-3-lp-p-same-sr-1e-08-ub-true-a-0-1-crossentropy-adam-0-001-bs-1024-2019-06-18-15-46-27\n",
      "mnist_grid_summaries/mnist-grid-relu-bn-relu-bn-44x2-ks-none-lp-p-same-ub-true-crossentropy-adam-0-001-bs-1024-2019-06-17-22-25-08\n"
     ]
    },
    {
     "name": "stderr",
     "output_type": "stream",
     "text": [
      " 56%|█████▌    | 257/459 [00:03<00:02, 84.42it/s]"
     ]
    },
    {
     "name": "stdout",
     "output_type": "stream",
     "text": [
      "mnist_grid_summaries/mnist-grid-relu-relu-4x4-ks-3-3-lp-p-same-ub-true-crossentropy-adam-0-001-bs-1024-2019-06-20-13-43-03\n",
      "mnist_grid_summaries/mnist-grid-separating-relu-separating-relu-8x32-ks-none-lp-p-same-sr-0-0001-ub-true-a-0-1-crossentropy-adam-0-001-bs-1024-2019-06-06-15-18-40\n",
      "mnist_grid_summaries/mnist-grid-separating-relu-separating-relu-4x8-ks-none-lp-p-same-sr-0-0001-ub-true-a-0-1-crossentropy-adam-0-001-bs-1024-2019-06-06-14-23-08\n",
      "mnist_grid_summaries/mnist-grid-relu-relu-16x2-ks-3-3-lp-p-same-ub-true-crossentropy-adam-0-001-bs-1024-2019-06-20-13-53-19\n",
      "mnist_grid_summaries/mnist-grid-separating-relu-separating-relu-32x2-ks-none-lp-p-same-sr-1e-08-ub-true-a-0-1-crossentropy-adam-0-001-bs-1024-2019-06-17-20-24-57\n",
      "mnist_grid_summaries/mnist-grid-relu-bn-relu-bn-16x2-ks-none-lp-p-same-ub-true-crossentropy-adam-0-001-bs-1024-2019-06-06-16-30-57\n",
      "mnist_grid_summaries/mnist-grid-relu-relu-16x4-ks-3-3-lp-p-same-ub-true-crossentropy-adam-0-001-bs-1024-2019-06-20-13-54-50\n",
      "mnist_grid_summaries/mnist-grid-relu-relu-40x8-ks-3-3-lp-p-same-ub-true-crossentropy-adam-0-001-bs-1024-2019-06-20-15-06-14\n",
      "mnist_grid_summaries/mnist-grid-relu-bn-relu-bn-4x32-ks-none-lp-p-same-ub-true-crossentropy-adam-0-001-bs-64-2019-06-06-15-21-23\n",
      "mnist_grid_summaries/mnist-grid-separating-relu-separating-relu-36x12-ks-3-3-lp-p-same-sr-1e-08-ub-true-a-0-1-crossentropy-adam-0-001-bs-1024-2019-06-22-00-21-32\n",
      "mnist_grid_summaries/mnist-grid-relu-bn-relu-bn-4x4-ks-none-lp-p-same-ub-true-crossentropy-adam-0-001-bs-64-2019-06-06-14-56-38\n",
      "mnist_grid_summaries/mnist-grid-separating-relu-separating-relu-20x4-ks-none-lp-p-same-sr-1e-08-ub-true-a-0-1-crossentropy-adam-0-001-bs-1024-2019-06-18-15-33-50\n",
      "mnist_grid_summaries/mnist-grid-relu-bn-relu-bn-40x4-ks-3-3-lp-p-same-ub-true-crossentropy-adam-0-001-bs-1024-2019-06-18-20-07-53\n",
      "mnist_grid_summaries/mnist-grid-relu-relu-2x16-ks-none-lp-p-same-ub-true-crossentropy-adam-0-001-bs-1024-2019-06-06-14-25-46\n",
      "mnist_grid_summaries/mnist-grid-relu-relu-2x32-ks-none-lp-p-same-ub-true-crossentropy-adam-0-001-bs-1024-2019-06-06-13-37-50\n",
      "mnist_grid_summaries/mnist-grid-relu-bn-relu-bn-1x8-ks-3-3-lp-p-same-ub-true-crossentropy-adam-0-001-bs-1024-2019-06-18-17-35-12\n",
      "mnist_grid_summaries/mnist-grid-relu-relu-64x4-ks-3-3-lp-p-same-ub-true-crossentropy-adam-0-001-bs-1024-2019-06-20-17-13-27\n",
      "mnist_grid_summaries/mnist-grid-relu-relu-16x8-ks-none-lp-p-same-ub-true-crossentropy-adam-0-001-bs-1024-2019-06-06-15-40-58\n",
      "mnist_grid_summaries/mnist-grid-relu-relu-28x2-ks-none-lp-p-same-ub-true-crossentropy-adam-0-001-bs-1024-2019-06-18-15-51-06\n",
      "mnist_grid_summaries/mnist-grid-relu-relu-44x8-ks-3-3-lp-p-same-ub-true-crossentropy-adam-0-001-bs-1024-2019-06-20-15-23-46\n",
      "mnist_grid_summaries/mnist-grid-relu-relu-1x2-ks-3-3-lp-p-same-ub-true-crossentropy-adam-0-001-bs-1024-2019-06-20-13-39-56\n"
     ]
    },
    {
     "name": "stderr",
     "output_type": "stream",
     "text": [
      " 61%|██████    | 278/459 [00:03<00:02, 89.35it/s]"
     ]
    },
    {
     "name": "stdout",
     "output_type": "stream",
     "text": [
      "mnist_grid_summaries/mnist-grid-separating-relu-separating-relu-64x2-ks-none-lp-p-same-sr-1e-08-ub-true-a-0-1-crossentropy-adam-0-001-bs-1024-2019-06-18-08-09-42\n",
      "mnist_grid_summaries/mnist-grid-relu-bn-relu-bn-68x16-ks-3-3-lp-p-same-ub-true-crossentropy-adam-0-001-bs-1024-2019-06-21-21-44-53\n",
      "mnist_grid_summaries/mnist-grid-relu-bn-relu-bn-60x16-ks-3-3-lp-p-same-ub-true-crossentropy-adam-0-001-bs-1024-2019-06-22-03-06-26\n",
      "mnist_grid_summaries/mnist-grid-separating-relu-separating-relu-32x2-ks-3-3-lp-p-same-sr-1e-08-ub-true-a-0-1-crossentropy-adam-0-001-bs-1024-2019-06-18-18-01-58\n",
      "mnist_grid_summaries/mnist-grid-relu-bn-relu-bn-8x8-ks-none-lp-p-same-ub-true-crossentropy-adam-0-001-bs-1024-2019-06-17-16-49-21\n",
      "mnist_grid_summaries/mnist-grid-relu-bn-relu-bn-68x12-ks-3-3-lp-p-same-ub-true-crossentropy-adam-0-001-bs-1024-2019-06-21-21-20-55\n",
      "mnist_grid_summaries/mnist-grid-separating-relu-separating-relu-16x4-ks-none-lp-p-same-sr-1e-08-ub-true-a-0-1-crossentropy-adam-0-001-bs-1024-2019-06-06-16-45-27\n",
      "mnist_grid_summaries/mnist-grid-relu-bn-relu-bn-16x16-ks-none-lp-p-same-ub-true-crossentropy-adam-0-001-bs-1024-2019-06-06-16-55-46\n",
      "mnist_grid_summaries/mnist-grid-relu-relu-20x8-ks-3-3-lp-p-same-ub-true-crossentropy-adam-0-001-bs-1024-2019-06-20-14-04-19\n",
      "mnist_grid_summaries/mnist-grid-relu-bn-relu-bn-2x2-ks-none-lp-p-same-ub-true-crossentropy-adam-0-001-bs-1024-2019-06-17-16-31-57\n",
      "mnist_grid_summaries/mnist-grid-relu-relu-40x4-ks-none-lp-p-same-ub-true-crossentropy-adam-0-001-bs-1024-2019-06-18-18-05-25\n",
      "mnist_grid_summaries/mnist-grid-relu-bn-relu-bn-40x2-ks-none-lp-p-same-ub-true-crossentropy-adam-0-001-bs-1024-2019-06-17-21-21-10\n",
      "mnist_grid_summaries/mnist-grid-relu-bn-relu-bn-64x4-ks-3-3-lp-p-same-ub-true-crossentropy-adam-0-001-bs-1024-2019-06-19-00-38-28\n",
      "mnist_grid_summaries/mnist-grid-relu-bn-relu-bn-64x8-ks-none-lp-p-same-ub-true-crossentropy-adam-0-001-bs-1024-2019-06-18-06-54-49\n",
      "mnist_grid_summaries/mnist-grid-relu-bn-relu-bn-32x2-ks-3-3-lp-p-same-ub-true-crossentropy-adam-0-001-bs-1024-2019-06-18-19-05-42\n",
      "mnist_grid_summaries/mnist-grid-relu-bn-relu-bn-56x4-ks-none-lp-p-same-ub-true-crossentropy-adam-0-001-bs-1024-2019-06-18-02-56-29\n",
      "mnist_grid_summaries/mnist-grid-separating-relu-separating-relu-32x8-ks-none-lp-p-same-sr-1e-08-ub-true-a-0-1-crossentropy-adam-0-001-bs-1024-2019-06-17-21-01-35\n",
      "mnist_grid_summaries/mnist-grid-separating-relu-separating-relu-20x4-ks-none-lp-p-same-sr-1e-08-ub-true-a-0-1-crossentropy-adam-0-001-bs-1024-2019-06-17-18-13-00\n"
     ]
    },
    {
     "name": "stderr",
     "output_type": "stream",
     "text": [
      " 65%|██████▍   | 297/459 [00:03<00:01, 86.69it/s]"
     ]
    },
    {
     "name": "stdout",
     "output_type": "stream",
     "text": [
      "mnist_grid_summaries/mnist-grid-relu-relu-60x8-ks-3-3-lp-p-same-ub-true-crossentropy-adam-0-001-bs-1024-2019-06-20-16-54-42\n",
      "mnist_grid_summaries/mnist-grid-relu-bn-relu-bn-24x8-ks-3-3-lp-p-same-ub-true-crossentropy-adam-0-001-bs-1024-2019-06-18-18-35-49\n",
      "mnist_grid_summaries/mnist-grid-separating-relu-separating-relu-24x12-ks-3-3-lp-p-same-sr-1e-08-ub-true-a-0-1-crossentropy-adam-0-001-bs-1024-2019-06-21-22-14-28\n",
      "mnist_grid_summaries/mnist-grid-separating-relu-separating-relu-60x2-ks-3-3-lp-p-same-sr-1e-08-ub-true-a-0-1-crossentropy-adam-0-001-bs-1024-2019-06-19-00-02-34\n",
      "mnist_grid_summaries/mnist-grid-relu-bn-relu-bn-4x2-ks-none-lp-p-same-ub-true-crossentropy-adam-0-001-bs-1024-2019-06-17-16-35-24\n",
      "mnist_grid_summaries/mnist-grid-separating-relu-separating-relu-60x8-ks-3-3-lp-p-same-sr-1e-08-ub-true-a-0-1-crossentropy-adam-0-001-bs-1024-2019-06-19-00-43-15\n",
      "mnist_grid_summaries/mnist-grid-relu-bn-relu-bn-2x4-ks-none-lp-p-same-ub-true-crossentropy-adam-0-001-bs-1024-2019-06-17-16-33-08\n",
      "mnist_grid_summaries/mnist-grid-separating-relu-separating-relu-8x4-ks-none-lp-p-same-sr-0-0001-ub-true-a-0-1-crossentropy-adam-0-001-bs-1024-2019-06-06-14-53-54\n",
      "mnist_grid_summaries/mnist-grid-relu-bn-relu-bn-12x4-ks-none-lp-p-same-ub-true-crossentropy-adam-0-001-bs-1024-2019-06-17-17-30-05\n",
      "mnist_grid_summaries/mnist-grid-separating-relu-separating-relu-8x4-ks-none-lp-p-same-sr-1e-08-ub-true-a-0-1-crossentropy-adam-0-001-bs-1024-2019-06-06-15-41-50\n",
      "mnist_grid_summaries/mnist-grid-relu-bn-relu-bn-32x4-ks-none-lp-p-same-ub-true-crossentropy-adam-0-001-bs-1024-2019-06-17-19-52-05\n",
      "mnist_grid_summaries/mnist-grid-relu-relu-2x2-ks-3-3-lp-p-same-ub-true-crossentropy-adam-0-001-bs-1024-2019-06-20-13-41-05\n",
      "mnist_grid_summaries/mnist-grid-separating-relu-separating-relu-32x12-ks-3-3-lp-p-same-sr-1e-08-ub-true-a-0-1-crossentropy-adam-0-001-bs-1024-2019-06-21-23-33-19\n",
      "mnist_grid_summaries/mnist-grid-separating-relu-separating-relu-28x8-ks-none-lp-p-same-sr-1e-08-ub-true-a-0-1-crossentropy-adam-0-001-bs-1024-2019-06-17-20-00-55\n",
      "mnist_grid_summaries/mnist-grid-separating-relu-separating-relu-28x4-ks-none-lp-p-same-sr-1e-08-ub-true-a-0-1-crossentropy-adam-0-001-bs-1024-2019-06-17-19-46-04\n",
      "mnist_grid_summaries/mnist-grid-relu-bn-relu-bn-68x2-ks-3-3-lp-p-same-ub-true-crossentropy-adam-0-001-bs-1024-2019-06-21-20-33-38\n"
     ]
    },
    {
     "name": "stderr",
     "output_type": "stream",
     "text": [
      " 69%|██████▉   | 316/459 [00:03<00:01, 87.46it/s]"
     ]
    },
    {
     "name": "stdout",
     "output_type": "stream",
     "text": [
      "mnist_grid_summaries/mnist-grid-relu-bn-relu-bn-8x16-ks-none-lp-p-same-ub-true-crossentropy-adam-0-001-bs-64-2019-06-06-16-13-58\n",
      "mnist_grid_summaries/mnist-grid-separating-relu-separating-relu-40x2-ks-3-3-lp-p-same-sr-1e-08-ub-true-a-0-1-crossentropy-adam-0-001-bs-1024-2019-06-18-19-21-12\n",
      "mnist_grid_summaries/mnist-grid-relu-bn-relu-bn-16x8-ks-none-lp-p-same-ub-true-crossentropy-adam-0-001-bs-1024-2019-06-06-16-45-27\n",
      "mnist_grid_summaries/mnist-grid-separating-relu-separating-relu-12x8-ks-3-3-lp-p-same-sr-1e-08-ub-true-a-0-1-crossentropy-adam-0-001-bs-1024-2019-06-18-16-11-15\n",
      "mnist_grid_summaries/mnist-grid-relu-bn-relu-bn-32x4-ks-3-3-lp-p-same-ub-true-crossentropy-adam-0-001-bs-1024-2019-06-18-19-12-41\n",
      "mnist_grid_summaries/mnist-grid-relu-bn-relu-bn-8x4-ks-none-lp-p-same-ub-true-crossentropy-adam-0-001-bs-1024-2019-06-17-16-46-09\n",
      "mnist_grid_summaries/mnist-grid-relu-bn-relu-bn-68x16-ks-3-3-lp-p-same-ub-true-crossentropy-adam-0-001-bs-1024-2019-06-21-21-45-39\n",
      "mnist_grid_summaries/mnist-grid-relu-bn-relu-bn-2x8-ks-none-lp-p-same-ub-true-crossentropy-adam-0-001-bs-64-2019-06-06-14-32-09\n",
      "mnist_grid_summaries/mnist-grid-relu-relu-24x4-ks-3-3-lp-p-same-ub-true-crossentropy-adam-0-001-bs-1024-2019-06-20-14-10-21\n",
      "mnist_grid_summaries/mnist-grid-separating-relu-separating-relu-12x4-ks-3-3-lp-p-same-sr-1e-08-ub-true-a-0-1-crossentropy-adam-0-001-bs-1024-2019-06-18-16-06-44\n",
      "mnist_grid_summaries/mnist-grid-separating-relu-separating-relu-28x4-ks-3-3-lp-p-same-sr-1e-08-ub-true-a-0-1-crossentropy-adam-0-001-bs-1024-2019-06-18-17-36-59\n",
      "mnist_grid_summaries/mnist-grid-separating-relu-separating-relu-2x2-ks-none-lp-p-same-sr-0-0001-ub-true-a-0-1-crossentropy-adam-0-001-bs-1024-2019-06-06-14-04-07\n",
      "mnist_grid_summaries/mnist-grid-separating-relu-separating-relu-48x2-ks-3-3-lp-p-same-sr-1e-08-ub-true-a-0-1-crossentropy-adam-0-001-bs-1024-2019-06-18-20-58-38\n",
      "mnist_grid_summaries/mnist-grid-separating-relu-separating-relu-52x8-ks-3-3-lp-p-same-sr-1e-08-ub-true-a-0-1-crossentropy-adam-0-001-bs-1024-2019-06-18-22-29-08\n",
      "mnist_grid_summaries/mnist-grid-separating-relu-separating-relu-8x16-ks-none-lp-p-same-sr-1e-08-ub-true-a-0-1-crossentropy-adam-0-001-bs-1024-2019-06-06-15-52-46\n",
      "mnist_grid_summaries/mnist-grid-separating-relu-separating-relu-4x4-ks-3-3-lp-p-same-sr-1e-08-ub-true-a-0-1-crossentropy-adam-0-001-bs-1024-2019-06-18-15-49-08\n",
      "mnist_grid_summaries/mnist-grid-separating-relu-separating-relu-68x8-ks-3-3-lp-p-same-sr-1e-08-ub-true-a-0-1-crossentropy-adam-0-001-bs-1024-2019-06-21-21-16-13\n",
      "mnist_grid_summaries/mnist-grid-separating-relu-separating-relu-40x4-ks-none-lp-p-same-sr-1e-08-ub-true-a-0-1-crossentropy-adam-0-001-bs-1024-2019-06-17-23-03-36\n",
      "mnist_grid_summaries/mnist-grid-separating-relu-separating-relu-28x12-ks-3-3-lp-p-same-sr-1e-08-ub-true-a-0-1-crossentropy-adam-0-001-bs-1024-2019-06-21-22-50-55\n"
     ]
    },
    {
     "name": "stderr",
     "output_type": "stream",
     "text": [
      "\r",
      " 71%|███████   | 325/459 [00:03<00:01, 83.12it/s]"
     ]
    },
    {
     "name": "stdout",
     "output_type": "stream",
     "text": [
      "mnist_grid_summaries/mnist-grid-separating-relu-separating-relu-56x8-ks-none-lp-p-same-sr-1e-08-ub-true-a-0-1-crossentropy-adam-0-001-bs-1024-2019-06-18-05-23-46\n",
      "mnist_grid_summaries/mnist-grid-relu-bn-relu-bn-68x2-ks-3-3-lp-p-same-ub-true-crossentropy-adam-0-001-bs-1024-2019-06-21-20-35-07\n",
      "mnist_grid_summaries/mnist-grid-relu-bn-relu-bn-68x4-ks-3-3-lp-p-same-ub-true-crossentropy-adam-0-001-bs-1024-2019-06-21-20-45-16\n",
      "mnist_grid_summaries/mnist-grid-relu-relu-2x4-ks-3-3-lp-p-same-ub-true-crossentropy-adam-0-001-bs-1024-2019-06-20-13-41-28\n",
      "mnist_grid_summaries/mnist-grid-relu-bn-relu-bn-56x2-ks-3-3-lp-p-same-ub-true-crossentropy-adam-0-001-bs-1024-2019-06-18-22-34-00\n",
      "mnist_grid_summaries/mnist-grid-relu-relu-2x8-ks-none-lp-p-same-ub-true-crossentropy-adam-0-001-bs-1024-2019-06-06-14-24-41\n",
      "mnist_grid_summaries/mnist-grid-relu-relu-8x4-ks-3-3-lp-p-same-ub-true-crossentropy-adam-0-001-bs-1024-2019-06-20-13-45-30\n",
      "mnist_grid_summaries/mnist-grid-relu-bn-relu-bn-4x8-ks-3-3-lp-p-same-ub-true-crossentropy-adam-0-001-bs-1024-2019-06-18-17-39-43\n",
      "mnist_grid_summaries/mnist-grid-separating-relu-separating-relu-2x4-ks-none-lp-p-same-sr-0-0001-ub-true-a-0-1-crossentropy-adam-0-001-bs-1024-2019-06-06-14-05-30\n",
      "mnist_grid_summaries/mnist-grid-relu-relu-24x8-ks-none-lp-p-same-ub-true-crossentropy-adam-0-001-bs-1024-2019-06-18-15-38-39\n",
      "mnist_grid_summaries/mnist-grid-relu-relu-4x128-ks-none-lp-p-same-ub-true-crossentropy-adam-0-001-bs-128-2019-06-05-00-27-35\n",
      "mnist_grid_summaries/mnist-grid-relu-bn-relu-bn-2x2-ks-3-3-lp-p-same-ub-true-crossentropy-adam-0-001-bs-1024-2019-06-18-17-35-41\n",
      "mnist_grid_summaries/mnist-grid-separating-relu-separating-relu-2x2-ks-3-3-lp-p-same-sr-1e-08-ub-true-a-0-1-crossentropy-adam-0-001-bs-1024-2019-06-18-15-44-33\n",
      "mnist_grid_summaries/mnist-grid-separating-relu-separating-relu-12x4-ks-none-lp-p-same-sr-1e-08-ub-true-a-0-1-crossentropy-adam-0-001-bs-1024-2019-06-17-17-44-00\n"
     ]
    },
    {
     "name": "stderr",
     "output_type": "stream",
     "text": [
      " 75%|███████▍  | 342/459 [00:04<00:01, 76.32it/s]"
     ]
    },
    {
     "name": "stdout",
     "output_type": "stream",
     "text": [
      "mnist_grid_summaries/mnist-grid-relu-bn-relu-bn-56x16-ks-3-3-lp-p-same-ub-true-crossentropy-adam-0-001-bs-1024-2019-06-22-02-15-00\n",
      "mnist_grid_summaries/mnist-grid-relu-relu-64x4-ks-none-lp-p-same-ub-true-crossentropy-adam-0-001-bs-1024-2019-06-19-00-25-19\n",
      "mnist_grid_summaries/mnist-grid-separating-relu-separating-relu-16x8-ks-none-lp-p-same-sr-1e-08-ub-true-a-0-1-crossentropy-adam-0-001-bs-1024-2019-06-06-16-53-54\n",
      "mnist_grid_summaries/mnist-grid-relu-relu-4x4-ks-none-lp-p-same-ub-true-crossentropy-adam-0-001-bs-1024-2019-06-06-14-29-29\n",
      "mnist_grid_summaries/mnist-grid-relu-bn-relu-bn-32x2-ks-none-lp-p-same-ub-true-crossentropy-adam-0-001-bs-1024-2019-06-17-19-35-09\n",
      "mnist_grid_summaries/mnist-grid-relu-bn-relu-bn-52x8-ks-none-lp-p-same-ub-true-crossentropy-adam-0-001-bs-1024-2019-06-18-01-48-27\n",
      "mnist_grid_summaries/mnist-grid-separating-relu-separating-relu-44x12-ks-3-3-lp-p-same-sr-1e-08-ub-true-a-0-1-crossentropy-adam-0-001-bs-1024-2019-06-22-02-14-58\n",
      "mnist_grid_summaries/mnist-grid-relu-bn-relu-bn-8x4-ks-3-3-lp-p-same-ub-true-crossentropy-adam-0-001-bs-1024-2019-06-18-17-42-51\n",
      "mnist_grid_summaries/mnist-grid-relu-relu-52x2-ks-none-lp-p-same-ub-true-crossentropy-adam-0-001-bs-1024-2019-06-18-20-31-29\n",
      "mnist_grid_summaries/mnist-grid-relu-relu-16x2-ks-none-lp-p-same-ub-true-crossentropy-adam-0-001-bs-1024-2019-06-06-15-29-40\n",
      "mnist_grid_summaries/mnist-grid-separating-relu-separating-relu-60x2-ks-none-lp-p-same-sr-1e-08-ub-true-a-0-1-crossentropy-adam-0-001-bs-1024-2019-06-18-06-10-23\n",
      "mnist_grid_summaries/mnist-grid-relu-bn-relu-bn-36x8-ks-none-lp-p-same-ub-true-crossentropy-adam-0-001-bs-1024-2019-06-17-20-58-09\n",
      "mnist_grid_summaries/mnist-grid-relu-relu-36x4-ks-none-lp-p-same-ub-true-crossentropy-adam-0-001-bs-1024-2019-06-18-17-19-33\n",
      "mnist_grid_summaries/mnist-grid-separating-relu-separating-relu-8x16-ks-none-lp-p-same-sr-0-0001-ub-true-a-0-1-crossentropy-adam-0-001-bs-1024-2019-06-06-15-05-12\n",
      "mnist_grid_summaries/mnist-grid-separating-relu-separating-relu-16x4-ks-3-3-lp-p-same-sr-1e-08-ub-true-a-0-1-crossentropy-adam-0-001-bs-1024-2019-06-18-16-22-26\n",
      "mnist_grid_summaries/mnist-grid-separating-relu-separating-relu-2x128-ks-none-lp-p-same-sr-0-0001-ub-true-a-0-1-nm-1-crossentropy-adam-0-001-bs-85-2019-06-04-19-23-00\n"
     ]
    },
    {
     "name": "stderr",
     "output_type": "stream",
     "text": [
      " 78%|███████▊  | 358/459 [00:04<00:01, 68.87it/s]"
     ]
    },
    {
     "name": "stdout",
     "output_type": "stream",
     "text": [
      "mnist_grid_summaries/mnist-grid-relu-bn-relu-bn-2x2-ks-none-lp-p-same-ub-true-crossentropy-adam-0-001-bs-64-2019-06-06-14-23-42\n",
      "mnist_grid_summaries/mnist-grid-relu-bn-relu-bn-24x16-ks-3-3-lp-p-same-ub-true-crossentropy-adam-0-001-bs-1024-2019-06-21-21-41-30\n",
      "mnist_grid_summaries/mnist-grid-separating-relu-separating-relu-52x8-ks-none-lp-p-same-sr-1e-08-ub-true-a-0-1-crossentropy-adam-0-001-bs-1024-2019-06-18-03-36-13\n",
      "mnist_grid_summaries/mnist-grid-separating-relu-separating-relu-60x4-ks-none-lp-p-same-sr-1e-08-ub-true-a-0-1-crossentropy-adam-0-001-bs-1024-2019-06-18-06-47-39\n",
      "mnist_grid_summaries/mnist-grid-relu-bn-relu-bn-4x4-ks-none-lp-p-same-ub-true-crossentropy-adam-0-001-bs-1024-2019-06-17-16-37-33\n",
      "mnist_grid_summaries/mnist-grid-relu-relu-32x4-ks-none-lp-p-same-ub-true-crossentropy-adam-0-001-bs-1024-2019-06-18-16-38-39\n",
      "mnist_grid_summaries/mnist-grid-relu-bn-relu-bn-60x4-ks-none-lp-p-same-ub-true-crossentropy-adam-0-001-bs-1024-2019-06-18-04-35-17\n",
      "mnist_grid_summaries/mnist-grid-relu-relu-56x2-ks-none-lp-p-same-ub-true-crossentropy-adam-0-001-bs-1024-2019-06-18-21-35-58\n",
      "mnist_grid_summaries/mnist-grid-relu-relu-40x4-ks-3-3-lp-p-same-ub-true-crossentropy-adam-0-001-bs-1024-2019-06-20-15-00-56\n",
      "mnist_grid_summaries/mnist-grid-relu-relu-20x2-ks-none-lp-p-same-ub-true-crossentropy-adam-0-001-bs-1024-2019-06-18-14-57-44\n",
      "mnist_grid_summaries/mnist-grid-relu-relu-12x8-ks-none-lp-p-same-ub-true-crossentropy-adam-0-001-bs-1024-2019-06-18-14-51-31\n",
      "mnist_grid_summaries/mnist-grid-relu-bn-relu-bn-24x4-ks-3-3-lp-p-same-ub-true-crossentropy-adam-0-001-bs-1024-2019-06-18-18-30-06\n"
     ]
    },
    {
     "name": "stderr",
     "output_type": "stream",
     "text": [
      "\r",
      " 80%|███████▉  | 366/459 [00:04<00:01, 65.26it/s]"
     ]
    },
    {
     "name": "stdout",
     "output_type": "stream",
     "text": [
      "mnist_grid_summaries/mnist-grid-relu-bn-relu-bn-40x2-ks-3-3-lp-p-same-ub-true-crossentropy-adam-0-001-bs-1024-2019-06-18-19-59-29\n",
      "mnist_grid_summaries/mnist-grid-separating-relu-separating-relu-64x2-ks-3-3-lp-p-same-sr-1e-08-ub-true-a-0-1-crossentropy-adam-0-001-bs-1024-2019-06-19-01-14-54\n",
      "mnist_grid_summaries/mnist-grid-relu-bn-relu-bn-32x8-ks-none-lp-p-same-ub-true-crossentropy-adam-0-001-bs-1024-2019-06-17-20-04-28\n",
      "mnist_grid_summaries/mnist-grid-relu-relu-44x4-ks-none-lp-p-same-ub-true-crossentropy-adam-0-001-bs-1024-2019-06-18-18-56-22\n",
      "mnist_grid_summaries/mnist-grid-relu-bn-relu-bn-56x4-ks-3-3-lp-p-same-ub-true-crossentropy-adam-0-001-bs-1024-2019-06-18-22-47-38\n",
      "mnist_grid_summaries/mnist-grid-separating-relu-separating-relu-20x4-ks-none-lp-p-same-sr-1-ub-true-a-0-1-crossentropy-adam-0-001-bs-1024-2019-06-18-15-32-40\n",
      "mnist_grid_summaries/mnist-grid-separating-relu-separating-relu-48x8-ks-3-3-lp-p-same-sr-1e-08-ub-true-a-0-1-crossentropy-adam-0-001-bs-1024-2019-06-18-21-30-01\n",
      "mnist_grid_summaries/mnist-grid-relu-bn-relu-bn-2x8-ks-none-lp-p-same-ub-true-crossentropy-adam-0-001-bs-1024-2019-06-17-16-34-05\n",
      "mnist_grid_summaries/mnist-grid-relu-bn-relu-bn-48x16-ks-3-3-lp-p-same-ub-true-crossentropy-adam-0-001-bs-1024-2019-06-22-00-43-16\n",
      "mnist_grid_summaries/mnist-grid-relu-relu-20x8-ks-none-lp-p-same-ub-true-crossentropy-adam-0-001-bs-1024-2019-06-18-15-11-36\n",
      "mnist_grid_summaries/mnist-grid-relu-relu-36x2-ks-none-lp-p-same-ub-true-crossentropy-adam-0-001-bs-1024-2019-06-18-17-04-26\n",
      "mnist_grid_summaries/mnist-grid-relu-relu-2x4-ks-none-lp-p-same-ub-true-crossentropy-adam-0-001-bs-1024-2019-06-06-14-23-57\n"
     ]
    },
    {
     "name": "stderr",
     "output_type": "stream",
     "text": [
      "\r",
      " 82%|████████▏ | 376/459 [00:04<00:01, 71.47it/s]"
     ]
    },
    {
     "name": "stdout",
     "output_type": "stream",
     "text": [
      "mnist_grid_summaries/mnist-grid-separating-relu-separating-relu-8x8-ks-3-3-lp-p-same-sr-1e-08-ub-true-a-0-1-crossentropy-adam-0-001-bs-1024-2019-06-18-15-58-44\n",
      "mnist_grid_summaries/mnist-grid-separating-relu-separating-relu-20x16-ks-3-3-lp-p-same-sr-1e-08-ub-true-a-0-1-crossentropy-adam-0-001-bs-1024-2019-06-21-21-57-23\n",
      "mnist_grid_summaries/mnist-grid-relu-bn-relu-bn-52x4-ks-none-lp-p-same-ub-true-crossentropy-adam-0-001-bs-1024-2019-06-18-01-25-54\n",
      "mnist_grid_summaries/mnist-grid-separating-relu-separating-relu-44x2-ks-3-3-lp-p-same-sr-1e-08-ub-true-a-0-1-crossentropy-adam-0-001-bs-1024-2019-06-18-20-07-39\n",
      "mnist_grid_summaries/mnist-grid-relu-bn-relu-bn-16x128-ks-none-lp-p-same-ub-true-crossentropy-adam-0-001-bs-64-2019-06-05-16-49-26\n",
      "mnist_grid_summaries/mnist-grid-separating-relu-separating-relu-36x16-ks-3-3-lp-p-same-sr-1e-08-ub-true-a-0-1-crossentropy-adam-0-001-bs-1024-2019-06-22-00-45-26\n"
     ]
    },
    {
     "name": "stderr",
     "output_type": "stream",
     "text": [
      "\r",
      " 84%|████████▍ | 387/459 [00:04<00:00, 78.31it/s]"
     ]
    },
    {
     "name": "stdout",
     "output_type": "stream",
     "text": [
      "mnist_grid_summaries/mnist-grid-relu-relu-24x2-ks-none-lp-p-same-ub-true-crossentropy-adam-0-001-bs-1024-2019-06-18-15-21-54\n",
      "mnist_grid_summaries/mnist-grid-separating-relu-separating-relu-16x2-ks-none-lp-p-same-sr-1e-08-ub-true-a-0-1-crossentropy-adam-0-001-bs-1024-2019-06-06-16-35-45\n",
      "mnist_grid_summaries/mnist-grid-separating-relu-separating-relu-24x2-ks-3-3-lp-p-same-sr-1e-08-ub-true-a-0-1-crossentropy-adam-0-001-bs-1024-2019-06-18-17-00-36\n",
      "mnist_grid_summaries/mnist-grid-relu-relu-52x4-ks-3-3-lp-p-same-ub-true-crossentropy-adam-0-001-bs-1024-2019-06-20-15-58-21\n",
      "mnist_grid_summaries/mnist-grid-separating-relu-separating-relu-24x16-ks-3-3-lp-p-same-sr-1e-08-ub-true-a-0-1-crossentropy-adam-0-001-bs-1024-2019-06-21-22-30-28\n",
      "mnist_grid_summaries/mnist-grid-relu-relu-4x8-ks-3-3-lp-p-same-ub-true-crossentropy-adam-0-001-bs-1024-2019-06-20-13-43-43\n",
      "mnist_grid_summaries/mnist-grid-relu-relu-64x8-ks-3-3-lp-p-same-ub-true-crossentropy-adam-0-001-bs-1024-2019-06-20-17-22-21\n",
      "mnist_grid_summaries/mnist-grid-separating-relu-separating-relu-44x8-ks-3-3-lp-p-same-sr-1e-08-ub-true-a-0-1-crossentropy-adam-0-001-bs-1024-2019-06-18-20-36-03\n",
      "mnist_grid_summaries/mnist-grid-separating-relu-separating-relu-8x12-ks-3-3-lp-p-same-sr-1e-08-ub-true-a-0-1-crossentropy-adam-0-001-bs-1024-2019-06-21-20-48-22\n",
      "mnist_grid_summaries/mnist-grid-separating-relu-separating-relu-20x4-ks-3-3-lp-p-same-sr-1e-08-ub-true-a-0-1-crossentropy-adam-0-001-bs-1024-2019-06-18-16-42-38\n",
      "mnist_grid_summaries/mnist-grid-relu-bn-relu-bn-36x2-ks-3-3-lp-p-same-ub-true-crossentropy-adam-0-001-bs-1024-2019-06-18-19-30-59\n",
      "mnist_grid_summaries/mnist-grid-relu-bn-relu-bn-68x8-ks-3-3-lp-p-same-ub-true-crossentropy-adam-0-001-bs-1024-2019-06-21-21-00-58\n",
      "mnist_grid_summaries/mnist-grid-separating-relu-separating-relu-32x4-ks-none-lp-p-same-sr-1e-08-ub-true-a-0-1-crossentropy-adam-0-001-bs-1024-2019-06-17-20-44-45\n",
      "mnist_grid_summaries/mnist-grid-separating-relu-separating-relu-36x4-ks-3-3-lp-p-same-sr-1e-08-ub-true-a-0-1-crossentropy-adam-0-001-bs-1024-2019-06-18-18-49-55\n",
      "mnist_grid_summaries/mnist-grid-relu-bn-relu-bn-24x12-ks-3-3-lp-p-same-ub-true-crossentropy-adam-0-001-bs-1024-2019-06-21-21-32-18\n"
     ]
    },
    {
     "name": "stderr",
     "output_type": "stream",
     "text": [
      "\r",
      " 87%|████████▋ | 398/459 [00:04<00:00, 84.63it/s]"
     ]
    },
    {
     "name": "stdout",
     "output_type": "stream",
     "text": [
      "mnist_grid_summaries/mnist-grid-relu-bn-relu-bn-20x4-ks-none-lp-p-same-ub-true-crossentropy-adam-0-001-bs-1024-2019-06-17-17-52-45\n",
      "mnist_grid_summaries/mnist-grid-relu-bn-relu-bn-60x4-ks-3-3-lp-p-same-ub-true-crossentropy-adam-0-001-bs-1024-2019-06-18-23-40-15\n",
      "mnist_grid_summaries/mnist-grid-relu-bn-relu-bn-48x4-ks-3-3-lp-p-same-ub-true-crossentropy-adam-0-001-bs-1024-2019-06-18-21-18-38\n",
      "mnist_grid_summaries/mnist-grid-relu-relu-2x128-ks-none-lp-p-same-ub-true-crossentropy-adam-0-001-bs-128-2019-06-04-23-59-07\n",
      "mnist_grid_summaries/mnist-grid-relu-relu-28x4-ks-3-3-lp-p-same-ub-true-crossentropy-adam-0-001-bs-1024-2019-06-20-14-20-26\n",
      "mnist_grid_summaries/mnist-grid-separating-relu-separating-relu-16x2-ks-none-lp-p-same-sr-0-0001-ub-true-a-0-1-crossentropy-adam-0-001-bs-1024-2019-06-06-13-26-43\n"
     ]
    },
    {
     "name": "stderr",
     "output_type": "stream",
     "text": [
      "\r",
      " 89%|████████▉ | 409/459 [00:04<00:00, 90.26it/s]"
     ]
    },
    {
     "name": "stdout",
     "output_type": "stream",
     "text": [
      "mnist_grid_summaries/mnist-grid-separating-relu-separating-relu-40x8-ks-none-lp-p-same-sr-1e-08-ub-true-a-0-1-crossentropy-adam-0-001-bs-1024-2019-06-17-23-24-16\n",
      "mnist_grid_summaries/mnist-grid-separating-relu-separating-relu-16x32-ks-none-lp-p-same-sr-1e-08-ub-true-a-0-1-crossentropy-adam-0-001-bs-1024-2019-06-06-17-34-14\n",
      "mnist_grid_summaries/mnist-grid-relu-bn-relu-bn-64x2-ks-none-lp-p-same-ub-true-crossentropy-adam-0-001-bs-1024-2019-06-18-05-45-38\n",
      "mnist_grid_summaries/mnist-grid-relu-bn-relu-bn-52x4-ks-3-3-lp-p-same-ub-true-crossentropy-adam-0-001-bs-1024-2019-06-18-22-00-46\n",
      "mnist_grid_summaries/mnist-grid-relu-bn-relu-bn-16x4-ks-none-lp-p-same-ub-true-crossentropy-adam-0-001-bs-1024-2019-06-06-16-39-14\n",
      "mnist_grid_summaries/mnist-grid-separating-relu-separating-relu-2x12-ks-3-3-lp-p-same-sr-1e-08-ub-true-a-0-1-crossentropy-adam-0-001-bs-1024-2019-06-21-20-38-16\n",
      "mnist_grid_summaries/mnist-grid-relu-relu-56x8-ks-3-3-lp-p-same-ub-true-crossentropy-adam-0-001-bs-1024-2019-06-20-16-28-55\n",
      "mnist_grid_summaries/mnist-grid-relu-relu-52x8-ks-none-lp-p-same-ub-true-crossentropy-adam-0-001-bs-1024-2019-06-18-21-08-31\n",
      "mnist_grid_summaries/mnist-grid-relu-bn-relu-bn-48x8-ks-3-3-lp-p-same-ub-true-crossentropy-adam-0-001-bs-1024-2019-06-18-21-31-18\n",
      "mnist_grid_summaries/mnist-grid-relu-bn-relu-bn-56x8-ks-none-lp-p-same-ub-true-crossentropy-adam-0-001-bs-1024-2019-06-18-03-21-39\n",
      "mnist_grid_summaries/mnist-grid-separating-relu-separating-relu-16x12-ks-3-3-lp-p-same-sr-1e-08-ub-true-a-0-1-crossentropy-adam-0-001-bs-1024-2019-06-21-21-19-25\n",
      "mnist_grid_summaries/mnist-grid-separating-relu-separating-relu-24x4-ks-3-3-lp-p-same-sr-1e-08-ub-true-a-0-1-crossentropy-adam-0-001-bs-1024-2019-06-18-17-07-33\n",
      "mnist_grid_summaries/mnist-grid-relu-relu-56x2-ks-3-3-lp-p-same-ub-true-crossentropy-adam-0-001-bs-1024-2019-06-20-16-15-35\n",
      "mnist_grid_summaries/mnist-grid-relu-bn-relu-bn-40x16-ks-3-3-lp-p-same-ub-true-crossentropy-adam-0-001-bs-1024-2019-06-21-23-28-24\n",
      "mnist_grid_summaries/mnist-grid-separating-relu-separating-relu-4x12-ks-3-3-lp-p-same-sr-1e-08-ub-true-a-0-1-crossentropy-adam-0-001-bs-1024-2019-06-21-20-41-50\n",
      "mnist_grid_summaries/mnist-grid-separating-relu-separating-relu-36x8-ks-none-lp-p-same-sr-1e-08-ub-true-a-0-1-crossentropy-adam-0-001-bs-1024-2019-06-17-22-09-44\n"
     ]
    },
    {
     "name": "stderr",
     "output_type": "stream",
     "text": [
      "\r",
      " 92%|█████████▏| 420/459 [00:05<00:00, 93.65it/s]"
     ]
    },
    {
     "name": "stdout",
     "output_type": "stream",
     "text": [
      "mnist_grid_summaries/mnist-grid-separating-relu-separating-relu-8x4-ks-none-lp-p-same-sr-1e-06-ub-true-a-0-1-crossentropy-adam-0-001-bs-1024-2019-06-06-14-30-13\n",
      "mnist_grid_summaries/mnist-grid-separating-relu-separating-relu-16x8-ks-3-3-lp-p-same-sr-1e-08-ub-true-a-0-1-crossentropy-adam-0-001-bs-1024-2019-06-18-16-28-22\n",
      "mnist_grid_summaries/mnist-grid-relu-relu-8x8-ks-3-3-lp-p-same-ub-true-crossentropy-adam-0-001-bs-1024-2019-06-20-13-46-36\n",
      "mnist_grid_summaries/mnist-grid-relu-relu-8x2-ks-3-3-lp-p-same-ub-true-crossentropy-adam-0-001-bs-1024-2019-06-20-13-44-37\n",
      "mnist_grid_summaries/mnist-grid-separating-relu-separating-relu-56x8-ks-3-3-lp-p-same-sr-1e-08-ub-true-a-0-1-crossentropy-adam-0-001-bs-1024-2019-06-18-23-33-20\n",
      "mnist_grid_summaries/mnist-grid-separating-relu-separating-relu-4x32-ks-none-lp-p-same-sr-0-0001-ub-true-a-0-1-crossentropy-adam-0-001-bs-1024-2019-06-06-14-33-11\n"
     ]
    },
    {
     "name": "stderr",
     "output_type": "stream",
     "text": [
      "\r",
      " 94%|█████████▍| 431/459 [00:05<00:00, 96.27it/s]"
     ]
    },
    {
     "name": "stdout",
     "output_type": "stream",
     "text": [
      "mnist_grid_summaries/mnist-grid-relu-bn-relu-bn-36x4-ks-3-3-lp-p-same-ub-true-crossentropy-adam-0-001-bs-1024-2019-06-18-19-38-29\n",
      "mnist_grid_summaries/mnist-grid-separating-relu-separating-relu-28x2-ks-3-3-lp-p-same-sr-1e-08-ub-true-a-0-1-crossentropy-adam-0-001-bs-1024-2019-06-18-17-28-59\n",
      "mnist_grid_summaries/mnist-grid-relu-relu-4x8-ks-none-lp-p-same-ub-true-crossentropy-adam-0-001-bs-1024-2019-06-06-14-30-45\n",
      "mnist_grid_summaries/mnist-grid-separating-relu-separating-relu-20x4-ks-none-lp-p-same-sr-1e-08-ub-true-a-0-1-crossentropy-adam-0-001-bs-85-2019-06-18-15-54-35\n",
      "mnist_grid_summaries/mnist-grid-relu-relu-48x2-ks-3-3-lp-p-same-ub-true-crossentropy-adam-0-001-bs-1024-2019-06-20-15-32-16\n",
      "mnist_grid_summaries/mnist-grid-relu-bn-relu-bn-44x8-ks-3-3-lp-p-same-ub-true-crossentropy-adam-0-001-bs-1024-2019-06-18-20-52-13\n",
      "mnist_grid_summaries/mnist-grid-relu-relu-24x8-ks-3-3-lp-p-same-ub-true-crossentropy-adam-0-001-bs-1024-2019-06-20-14-13-20\n",
      "mnist_grid_summaries/mnist-grid-relu-bn-relu-bn-4x8-ks-none-lp-p-same-ub-true-crossentropy-adam-0-001-bs-64-2019-06-06-15-03-04\n",
      "mnist_grid_summaries/mnist-grid-relu-bn-relu-bn-52x2-ks-none-lp-p-same-ub-true-crossentropy-adam-0-001-bs-1024-2019-06-18-00-56-18\n",
      "mnist_grid_summaries/mnist-grid-relu-relu-36x4-ks-3-3-lp-p-same-ub-true-crossentropy-adam-0-001-bs-1024-2019-06-20-14-45-36\n",
      "mnist_grid_summaries/mnist-grid-separating-relu-separating-relu-64x4-ks-none-lp-p-same-sr-1e-10-ub-true-a-0-1-crossentropy-adam-0-001-bs-1024-2019-06-18-15-21-14\n",
      "mnist_grid_summaries/mnist-grid-relu-bn-relu-bn-52x12-ks-3-3-lp-p-same-ub-true-crossentropy-adam-0-001-bs-1024-2019-06-22-01-06-14\n",
      "mnist_grid_summaries/mnist-grid-relu-bn-relu-bn-48x4-ks-none-lp-p-same-ub-true-crossentropy-adam-0-001-bs-1024-2019-06-18-00-03-01\n",
      "mnist_grid_summaries/mnist-grid-separating-relu-separating-relu-48x4-ks-none-lp-p-same-sr-1e-08-ub-true-a-0-1-crossentropy-adam-0-001-bs-1024-2019-06-18-01-32-11\n",
      "mnist_grid_summaries/mnist-grid-relu-bn-relu-bn-12x8-ks-none-lp-p-same-ub-true-crossentropy-adam-0-001-bs-1024-2019-06-17-17-34-44\n"
     ]
    },
    {
     "name": "stderr",
     "output_type": "stream",
     "text": [
      "\r",
      " 96%|█████████▋| 442/459 [00:05<00:00, 98.18it/s]"
     ]
    },
    {
     "name": "stdout",
     "output_type": "stream",
     "text": [
      "mnist_grid_summaries/mnist-grid-relu-bn-relu-bn-72x8-ks-3-3-lp-p-same-ub-true-crossentropy-adam-0-001-bs-1024-2019-06-21-22-44-32\n",
      "mnist_grid_summaries/mnist-grid-relu-bn-relu-bn-64x2-ks-3-3-lp-p-same-ub-true-crossentropy-adam-0-001-bs-1024-2019-06-19-00-21-05\n",
      "mnist_grid_summaries/mnist-grid-separating-relu-separating-relu-48x8-ks-none-lp-p-same-sr-1e-08-ub-true-a-0-1-crossentropy-adam-0-001-bs-1024-2019-06-18-01-57-13\n",
      "mnist_grid_summaries/mnist-grid-relu-relu-40x8-ks-none-lp-p-same-ub-true-crossentropy-adam-0-001-bs-1024-2019-06-18-18-16-51\n",
      "mnist_grid_summaries/mnist-grid-relu-bn-relu-bn-28x4-ks-3-3-lp-p-same-ub-true-crossentropy-adam-0-001-bs-1024-2019-06-18-18-49-36\n",
      "mnist_grid_summaries/mnist-grid-relu-bn-relu-bn-64x8-ks-3-3-lp-p-same-ub-true-crossentropy-adam-0-001-bs-1024-2019-06-19-00-59-00\n"
     ]
    },
    {
     "name": "stderr",
     "output_type": "stream",
     "text": [
      "\r",
      " 99%|█████████▊| 453/459 [00:05<00:00, 100.67it/s]"
     ]
    },
    {
     "name": "stdout",
     "output_type": "stream",
     "text": [
      "mnist_grid_summaries/mnist-grid-separating-relu-separating-relu-40x8-ks-3-3-lp-p-same-sr-1e-08-ub-true-a-0-1-crossentropy-adam-0-001-bs-1024-2019-06-18-19-47-03\n",
      "mnist_grid_summaries/mnist-grid-separating-relu-separating-relu-2x16-ks-none-lp-p-same-sr-0-0001-ub-true-a-0-1-crossentropy-adam-0-001-bs-1024-2019-06-06-14-08-30\n",
      "mnist_grid_summaries/mnist-grid-relu-bn-relu-bn-28x8-ks-3-3-lp-p-same-ub-true-crossentropy-adam-0-001-bs-1024-2019-06-18-18-56-22\n",
      "mnist_grid_summaries/mnist-grid-relu-bn-relu-bn-24x8-ks-none-lp-p-same-ub-true-crossentropy-adam-0-001-bs-1024-2019-06-17-18-35-23\n",
      "mnist_grid_summaries/mnist-grid-relu-relu-2x8-ks-3-3-lp-p-same-ub-true-crossentropy-adam-0-001-bs-1024-2019-06-20-13-41-57\n",
      "mnist_grid_summaries/mnist-grid-relu-relu-32x2-ks-none-lp-p-same-ub-true-crossentropy-adam-0-001-bs-1024-2019-06-18-16-25-16\n",
      "mnist_grid_summaries/mnist-grid-relu-bn-relu-bn-56x12-ks-3-3-lp-p-same-ub-true-crossentropy-adam-0-001-bs-1024-2019-06-22-01-52-33\n",
      "mnist_grid_summaries/mnist-grid-relu-relu-48x2-ks-none-lp-p-same-ub-true-crossentropy-adam-0-001-bs-1024-2019-06-18-19-32-05\n",
      "mnist_grid_summaries/mnist-grid-relu-bn-relu-bn-20x16-ks-3-3-lp-p-same-ub-true-crossentropy-adam-0-001-bs-1024-2019-06-21-21-23-14\n",
      "mnist_grid_summaries/mnist-grid-relu-relu-20x4-ks-none-lp-p-same-ub-true-crossentropy-adam-0-001-bs-1024-2019-06-18-15-05-59\n",
      "mnist_grid_summaries/mnist-grid-relu-bn-relu-bn-40x8-ks-none-lp-p-same-ub-true-crossentropy-adam-0-001-bs-1024-2019-06-17-21-59-04\n",
      "mnist_grid_summaries/mnist-grid-separating-relu-separating-relu-56x2-ks-none-lp-p-same-sr-1e-08-ub-true-a-0-1-crossentropy-adam-0-001-bs-1024-2019-06-18-04-19-40\n",
      "mnist_grid_summaries/mnist-grid-relu-relu-24x2-ks-3-3-lp-p-same-ub-true-crossentropy-adam-0-001-bs-1024-2019-06-20-14-08-07\n"
     ]
    },
    {
     "name": "stderr",
     "output_type": "stream",
     "text": [
      "\r",
      "100%|██████████| 459/459 [00:05<00:00, 84.52it/s] "
     ]
    },
    {
     "name": "stdout",
     "output_type": "stream",
     "text": [
      "mnist_grid_summaries/mnist-grid-separating-relu-separating-relu-32x4-ks-3-3-lp-p-same-sr-1e-08-ub-true-a-0-1-crossentropy-adam-0-001-bs-1024-2019-06-18-18-11-05\n",
      "mnist_grid_summaries/mnist-grid-relu-relu-8x32-ks-none-lp-p-same-ub-true-crossentropy-adam-0-001-bs-1024-2019-06-06-13-54-09\n"
     ]
    },
    {
     "name": "stderr",
     "output_type": "stream",
     "text": [
      "\n"
     ]
    }
   ],
   "source": [
    "def extract_metrics(event_file):\n",
    "    results = []\n",
    "    for e in tf.train.summary_iterator(event_file):\n",
    "        for v in e.summary.value:\n",
    "            if v.tag.endswith('loss') or v.tag.endswith('acc'):\n",
    "                results.append((e.step, e.wall_time, v.tag, v.simple_value))\n",
    "\n",
    "    return pd.DataFrame(results, columns=['epoch', 'wall time', 'tag', 'value'])\n",
    "\n",
    "def get_table_grid(path, selected_activations=None):\n",
    "    architecture_regex = re.compile('-(\\d+)x(\\d+)-')\n",
    "    bs_regex = re.compile('-bs-(\\d+)-')\n",
    "\n",
    "    sr_regex = re.compile('-sr-(\\d+)(?:-(\\d+))?(?:(e-\\d+))?-')\n",
    "    path = Path(path)\n",
    "    results = defaultdict(lambda: defaultdict(pd.DataFrame)) # tag, activation\n",
    "    for summary_path in tqdm(path.iterdir(), total=len(list(path.iterdir()))):\n",
    "        if summary_path.is_dir():\n",
    "            path = summary_path\n",
    "#             print(summary_path)\n",
    "            event_file = list(path.glob('*events*'))            \n",
    "            if event_file:                    \n",
    "                event_file = str(event_file[0].resolve())\n",
    "                depth, width = architecture_regex.search(event_file).groups()\n",
    "                depth, width = int(depth), int(width)\n",
    "                bs = bs_regex.search(event_file).groups()[0]\n",
    "\n",
    "                if 'separating' in event_file:\n",
    "                    match = sr_regex.search(event_file)\n",
    "                    if match is None:\n",
    "                        continue\n",
    "                    else:\n",
    "                        integer, decimal, scientific = match.groups()\n",
    "    #                     print(integer, decimal, scientific)\n",
    "                        if decimal:                        \n",
    "                            lmda = integer+'.'+decimal \n",
    "                        elif scientific:\n",
    "                            lmda = integer + scientific\n",
    "                        else:\n",
    "                            lmda = integer\n",
    "\n",
    "                        lmda = float(lmda)\n",
    "                        if 'a-none' in event_file:\n",
    "                            activation = f'Sep-L {lmda}'\n",
    "                        elif 'a-0-1' in event_file:\n",
    "                            activation = f'Sep-UP {lmda}'\n",
    "                        elif 'a-0' in event_file:\n",
    "                            activation = f'Sep-U {lmda}'\n",
    "                        elif 'a-1' in event_file:\n",
    "                            activation = f'Sep-P {lmda}'\n",
    "\n",
    "                        else:\n",
    "                            raise RuntimeError(f'Unknown activation {activation}')\n",
    "\n",
    "                        if 'zero' in event_file:\n",
    "                            activation +=' zero'\n",
    "                        if 'nm-0' in event_file:\n",
    "                            activation += ' nm-0'\n",
    "                        if 'ks-3-3' in event_file:\n",
    "                            activation += ' ks 3x3'\n",
    "\n",
    "                else:\n",
    "                    if 'relu-bn' in event_file:\n",
    "                        activation = 'relu-bn'\n",
    "                    else:\n",
    "                        activation = 'relu'\n",
    "                        \n",
    "                    if 'ks-3-3' in event_file:\n",
    "                            activation += ' ks 3x3'\n",
    "                activation += f' bs {bs}'\n",
    "                if not selected_activations or activation in selected_activations:\n",
    "                    print(path)\n",
    "                    metrics = extract_metrics(event_file)\n",
    "                    best = metrics.groupby('tag').max()['value']\n",
    "\n",
    "                    results['acc'][activation].loc[width, depth] = best['acc']\n",
    "                    results['val_acc'][activation].loc[width, depth] = best['val_acc']\n",
    "\n",
    "    return results \n",
    "\n",
    "results = get_table_grid('./mnist_grid_summaries/')\n"
   ]
  },
  {
   "cell_type": "code",
   "execution_count": 5,
   "metadata": {},
   "outputs": [],
   "source": [
    "import dill as pkl\n",
    "with open('mnist-results-grid.pkl', 'wb') as f:\n",
    "    pkl.dump(results , f)"
   ]
  },
  {
   "cell_type": "code",
   "execution_count": 2,
   "metadata": {},
   "outputs": [],
   "source": [
    "import dill as pkl\n",
    "with open('mnist-results-grid.pkl', 'rb') as f:\n",
    "    results = pkl.load(f)"
   ]
  },
  {
   "cell_type": "code",
   "execution_count": 6,
   "metadata": {
    "scrolled": false
   },
   "outputs": [
    {
     "name": "stdout",
     "output_type": "stream",
     "text": [
      "acc\n",
      "relu-bn ks 3x3 bs 1024\n",
      "          1         2         4         8         12        16        20  \\\n",
      "2   0.980300  0.986850  0.991267  0.994833  0.991417  0.984767  0.979017   \n",
      "4   0.997683  0.999650  0.999800  1.000000  0.999250  0.996533  0.995250   \n",
      "8   0.999933  1.000000  1.000000  1.000000  1.000000  0.999983  0.999383   \n",
      "12       NaN  1.000000  1.000000  1.000000  0.999983  1.000000  1.000000   \n",
      "16       NaN  0.999983  0.999983  1.000000  1.000000  0.999983  0.999617   \n",
      "\n",
      "          24        28        32        36        40        44        48  \\\n",
      "2   0.972650  0.970933  0.952733  0.946550  0.919333  0.911017  0.872617   \n",
      "4   0.993683  0.988217  0.987567  0.985533  0.974583  0.965150  0.961717   \n",
      "8   0.998833  0.997817  0.997433  0.996600  0.997050  0.987567  0.985800   \n",
      "12  0.998917  0.998883  0.997600  0.997917  0.997350  0.994633  0.996150   \n",
      "16  0.999983  0.999283  0.999817  0.998100  0.998667  0.998717  0.997617   \n",
      "\n",
      "          52        56        60        64        68        72  \n",
      "2   0.680083  0.660283  0.149767  0.350150  0.112567  0.112483  \n",
      "4   0.931167  0.938017  0.841917  0.798067  0.708433  0.524050  \n",
      "8   0.979417  0.977017  0.972233  0.932800  0.900667  0.860833  \n",
      "12  0.989817  0.987733  0.979633  0.971817  0.956150  0.941533  \n",
      "16  0.992950  0.995383  0.992433  0.988083  0.988900       NaN  \n",
      "\n",
      "relu ks 3x3 bs 1024\n",
      "         1         2         4         8         12        16        20  \\\n",
      "2  0.975083  0.978217  0.986650  0.991867  0.993550  0.112367  0.112367   \n",
      "4  0.979800  0.991300  0.993983  0.995017  0.993250  0.112367  0.112367   \n",
      "8  0.993617  0.998783  0.999400  0.999467  0.998867  0.998250  0.997917   \n",
      "\n",
      "         24        28        32        36        40        44        48  \\\n",
      "2  0.112367  0.112367  0.112367  0.112367  0.112367  0.112367  0.112367   \n",
      "4  0.112367  0.112367  0.112367  0.112367  0.112367  0.112367  0.112367   \n",
      "8  0.996400  0.112367  0.112367  0.112367  0.112367  0.112367  0.112367   \n",
      "\n",
      "         52        56        60        64  \n",
      "2  0.112367  0.112367  0.112367  0.112367  \n",
      "4  0.112367  0.112367  0.112367  0.112367  \n",
      "8  0.112367  0.112367  0.112367  0.112367  \n",
      "\n",
      "Sep-UP 1e-08 ks 3x3 bs 1024\n",
      "          2         4         8         12        16        20        24  \\\n",
      "2   0.978217  0.985917  0.989900  0.987533  0.976767  0.980317  0.975683   \n",
      "4   0.990933  0.995433  0.991917  0.991983  0.993367  0.995433  0.992717   \n",
      "8   0.998017  0.999533  0.999333  0.999250  0.998950  0.998700  0.998833   \n",
      "12  0.999267  0.999800  0.999167  0.999500  0.999183  0.998933  0.998250   \n",
      "16  0.999883  0.999517  0.999700  0.999217  0.998850  0.999250  0.998667   \n",
      "\n",
      "          28        32        36        40        44        48        52  \\\n",
      "2   0.974367  0.979433  0.966850  0.973400  0.973533  0.975283  0.970267   \n",
      "4   0.991750  0.993967  0.992633  0.993450  0.991050  0.992183  0.993783   \n",
      "8   0.998200  0.997750  0.997000  0.997450  0.996933  0.997017  0.995667   \n",
      "12  0.999017  0.997850  0.998417  0.998017  0.997383       NaN       NaN   \n",
      "16  0.998467  0.998683  0.998433  0.997750       NaN       NaN       NaN   \n",
      "\n",
      "          56        60        64        68  \n",
      "2   0.963383  0.973950  0.966067  0.975650  \n",
      "4   0.993917  0.992533  0.990250  0.991133  \n",
      "8   0.994700  0.996983  0.996117  0.996817  \n",
      "12       NaN       NaN       NaN       NaN  \n",
      "16       NaN       NaN       NaN       NaN  \n",
      "\n",
      "val_acc\n",
      "relu-bn ks 3x3 bs 1024\n",
      "        1       2       4       8       12      16      20      24      28  \\\n",
      "2   0.9663  0.9718  0.9753  0.9727  0.9677  0.9589  0.9554  0.9515  0.9488   \n",
      "4   0.9730  0.9769  0.9835  0.9800  0.9803  0.9774  0.9695  0.9694  0.9582   \n",
      "8   0.9757  0.9845  0.9876  0.9879  0.9909  0.9892  0.9863  0.9840  0.9818   \n",
      "12     NaN  0.9854  0.9889  0.9896  0.9907  0.9904  0.9898  0.9855  0.9856   \n",
      "16     NaN  0.9857  0.9894  0.9920  0.9913  0.9912  0.9880  0.9891  0.9873   \n",
      "\n",
      "        32      36      40      44      48      52      56      60      64  \\\n",
      "2   0.9325  0.9335  0.9087  0.9108  0.8673  0.6665  0.6081  0.1550  0.3518   \n",
      "4   0.9672  0.9506  0.9484  0.9377  0.9238  0.8961  0.9032  0.8144  0.7807   \n",
      "8   0.9801  0.9764  0.9734  0.9599  0.9583  0.9449  0.9167  0.9396  0.8836   \n",
      "12  0.9841  0.9806  0.9761  0.9747  0.9717  0.9579  0.9564  0.9271  0.9302   \n",
      "16  0.9879  0.9828  0.9839  0.9790  0.9771  0.9713  0.9710  0.9631  0.9534   \n",
      "\n",
      "        68      72  \n",
      "2   0.1139  0.1153  \n",
      "4   0.6768  0.5127  \n",
      "8   0.8465  0.8163  \n",
      "12  0.8864  0.8793  \n",
      "16  0.9540     NaN  \n",
      "\n",
      "relu ks 3x3 bs 1024\n",
      "       1       2       4       8       12      16      20      24      28  \\\n",
      "2  0.9667  0.9728  0.9740  0.9743  0.9766  0.1135  0.1135  0.1135  0.1135   \n",
      "4  0.9705  0.9795  0.9816  0.9824  0.9845  0.1135  0.1135  0.1135  0.1135   \n",
      "8  0.9785  0.9846  0.9850  0.9866  0.9865  0.9869  0.9885  0.9885  0.1135   \n",
      "\n",
      "       32      36      40      44      48      52      56      60      64  \n",
      "2  0.1135  0.1135  0.1135  0.1135  0.1135  0.1135  0.1135  0.1135  0.1135  \n",
      "4  0.1135  0.1135  0.1135  0.1135  0.1135  0.1135  0.1135  0.1135  0.1135  \n",
      "8  0.1135  0.1135  0.1135  0.1135  0.1135  0.1135  0.1135  0.1135  0.1135  \n",
      "\n",
      "Sep-UP 1e-08 ks 3x3 bs 1024\n",
      "        2       4       8       12      16      20      24      28      32  \\\n",
      "2   0.9728  0.9756  0.9738  0.9733  0.9736  0.9755  0.9736  0.9694  0.9719   \n",
      "4   0.9791  0.9812  0.9816  0.9808  0.9825  0.9812  0.9814  0.9809  0.9817   \n",
      "8   0.9842  0.9845  0.9866  0.9870  0.9852  0.9869  0.9876  0.9872  0.9883   \n",
      "12  0.9840  0.9868  0.9862  0.9892  0.9889  0.9901  0.9879  0.9883  0.9891   \n",
      "16  0.9849  0.9887  0.9877  0.9884  0.9897  0.9904  0.9897  0.9889  0.9905   \n",
      "\n",
      "        36      40      44      48      52      56      60      64      68  \n",
      "2   0.9688  0.9710  0.9662  0.9709  0.9657  0.9609  0.9721  0.9638  0.9699  \n",
      "4   0.9831  0.9836  0.9865  0.9856  0.9861  0.9833  0.9858  0.9865  0.9863  \n",
      "8   0.9879  0.9888  0.9901  0.9886  0.9911  0.9870  0.9887  0.9896  0.9887  \n",
      "12  0.9903  0.9909  0.9901     NaN     NaN     NaN     NaN     NaN     NaN  \n",
      "16  0.9906  0.9902     NaN     NaN     NaN     NaN     NaN     NaN     NaN  \n",
      "\n"
     ]
    }
   ],
   "source": [
    "for metric_name, metric in results.items():\n",
    "    print(metric_name)\n",
    "    for activation_name, activation in metric.items():\n",
    "        if '3x3' in activation_name:#.endswith('1024'):\n",
    "            print(activation_name)\n",
    "            print(activation.sort_index().sort_index(axis=1))\n",
    "            print()"
   ]
  },
  {
   "cell_type": "code",
   "execution_count": 8,
   "metadata": {
    "scrolled": true
   },
   "outputs": [
    {
     "name": "stdout",
     "output_type": "stream",
     "text": [
      "['Sep-UP 0.0001 bs 1024', 'Sep-UP 0.0001 bs 128', 'Sep-UP 0.0001 bs 85', 'Sep-UP 1.0 bs 1024', 'Sep-UP 1e-06 bs 1024', 'Sep-UP 1e-08 bs 1024', 'Sep-UP 1e-08 bs 128', 'Sep-UP 1e-08 bs 512', 'Sep-UP 1e-08 bs 85', 'Sep-UP 1e-08 ks 3x3 bs 1024', 'Sep-UP 1e-10 bs 1024', 'Sep-UP 1e-12 bs 1024', 'Sep-UP 1e-16 bs 1024', 'relu bs 1024', 'relu bs 128', 'relu ks 3x3 bs 1024', 'relu-bn bs 1024', 'relu-bn bs 128', 'relu-bn bs 64', 'relu-bn ks 3x3 bs 1024']\n",
      "['relu ks 3x3 bs 1024', 'relu-bn ks 3x3 bs 1024', 'Sep-UP 1e-08 ks 3x3 bs 1024']\n"
     ]
    },
    {
     "data": {
      "image/png": "[encoded data removed]",
      "text/plain": [
       "<Figure size 3960x720 with 6 Axes>"
      ]
     },
     "metadata": {},
     "output_type": "display_data"
    }
   ],
   "source": [
    "sns.set_style(\"white\")\n",
    "activations = sorted(results['acc'].keys())\n",
    "\n",
    "print(activations)\n",
    "activations = ['relu ks 3x3 bs 1024', 'relu-bn ks 3x3 bs 1024', 'Sep-UP 1e-08 ks 3x3 bs 1024']\n",
    "# activations = ['relu bs 1024', 'relu-bn bs 1024', 'Sep-UP 0.0001 bs 1024',  'Sep-UP 1e-06 bs 1024', 'Sep-UP 1e-08 bs 1024']\n",
    "print(activations)\n",
    "\n",
    "fig, axes = plt.subplots(2,len(activations), figsize=(55, 10))\n",
    "axes[0,0].set_title('acc')\n",
    "axes[1,0].set_title('val acc')\n",
    "axes = iter(axes.flatten())\n",
    "\n",
    "for metric_name, metric in results.items():    \n",
    "    for activation_name in activations:\n",
    "        activation = metric[activation_name]\n",
    "        activation = activation.sort_index().sort_index(axis=1)\n",
    "        activation = activation.loc[:8]\n",
    "        ax = next(axes)\n",
    "        ax.matshow(activation, origin='lower', vmin=0.1, vmax=1)\n",
    "        ax.set_title(f'{metric_name}: {activation_name}')\n",
    "        ax.set_xticks(range(len(activation.columns)))\n",
    "        ax.set_yticks(range(len(activation.index)))\n",
    "        ax.set_xticklabels(activation.columns)\n",
    "        ax.set_yticklabels(activation.index)\n",
    "        ax.xaxis.set_ticks_position('bottom')\n",
    "        ax.set_xlabel('Depth')\n",
    "        ax.set_ylabel('Width')\n",
    "\n",
    "fig.tight_layout()"
   ]
  },
  {
   "cell_type": "code",
   "execution_count": null,
   "metadata": {},
   "outputs": [],
   "source": [
    "sns.set_style(\"white\")\n",
    "activations = sorted(results['acc'].keys())\n",
    "# activations = ['relu',  'relu-bn', 'Sep-UP 0.0001',]\n",
    "print(activations)\n",
    "\n",
    "fig, axes = plt.subplots(2,len(activations), figsize=(55, 10))\n",
    "axes[0,0].set_title('acc')\n",
    "axes[1,0].set_title('val acc')\n",
    "axes = iter(axes.flatten())\n",
    "\n",
    "for metric_name, metric in results.items():    \n",
    "    print(metric_name)\n",
    "    for activation_name in activations:\n",
    "        activation = metric[activation_name]\n",
    "        activation = activation.sort_index().sort_index(axis=1)\n",
    "        activation = activation.loc[:25]\n",
    "        print(activation_name)\n",
    "        print(activation))"
   ]
  },
  {
   "cell_type": "code",
   "execution_count": 54,
   "metadata": {},
   "outputs": [
    {
     "name": "stdout",
     "output_type": "stream",
     "text": [
      "dict_keys(['relu bs 1024', 'Sep-UP 1e-06 bs 1024', 'relu-bn ks 3x3 bs 1024', 'relu-bn bs 1024', 'Sep-UP 0.0001 bs 1024', 'relu ks 3x3 bs 1024', 'Sep-UP 1e-08 ks 3x3 bs 1024', 'Sep-UP 1e-08 bs 1024', 'Sep-UP 1e-08 bs 512', 'Sep-UP 1e-08 bs 128', 'relu-bn bs 64', 'relu-bn bs 128', 'Sep-UP 1e-12 bs 1024', 'relu bs 128', 'Sep-UP 1e-16 bs 1024', 'Sep-UP 0.0001 bs 128', 'Sep-UP 0.0001 bs 85', 'Sep-UP 1.0 bs 1024', 'Sep-UP 1e-08 bs 85', 'Sep-UP 1e-10 bs 1024'])\n"
     ]
    },
    {
     "name": "stderr",
     "output_type": "stream",
     "text": [
      "/home/carles/miniconda3/envs/tf_gpu/lib/python3.7/site-packages/pandas/core/indexing.py:1494: FutureWarning: \n",
      "Passing list-likes to .loc or [] with any missing label will raise\n",
      "KeyError in the future, you can use .reindex() as an alternative.\n",
      "\n",
      "See the documentation here:\n",
      "https://pandas.pydata.org/pandas-docs/stable/indexing.html#deprecate-loc-reindex-listlike\n",
      "  return self._getitem_tuple(key)\n"
     ]
    },
    {
     "name": "stdout",
     "output_type": "stream",
     "text": [
      "dict_keys(['relu bs 1024', 'Sep-UP 1e-06 bs 1024', 'relu-bn ks 3x3 bs 1024', 'relu-bn bs 1024', 'Sep-UP 0.0001 bs 1024', 'relu ks 3x3 bs 1024', 'Sep-UP 1e-08 ks 3x3 bs 1024', 'Sep-UP 1e-08 bs 1024', 'Sep-UP 1e-08 bs 512', 'Sep-UP 1e-08 bs 128', 'relu-bn bs 64', 'relu-bn bs 128', 'Sep-UP 1e-12 bs 1024', 'relu bs 128', 'Sep-UP 1e-16 bs 1024', 'Sep-UP 0.0001 bs 128', 'Sep-UP 0.0001 bs 85', 'Sep-UP 1.0 bs 1024', 'Sep-UP 1e-08 bs 85', 'Sep-UP 1e-10 bs 1024'])\n"
     ]
    },
    {
     "name": "stderr",
     "output_type": "stream",
     "text": [
      "/home/carles/miniconda3/envs/tf_gpu/lib/python3.7/site-packages/pandas/core/indexing.py:1494: FutureWarning: \n",
      "Passing list-likes to .loc or [] with any missing label will raise\n",
      "KeyError in the future, you can use .reindex() as an alternative.\n",
      "\n",
      "See the documentation here:\n",
      "https://pandas.pydata.org/pandas-docs/stable/indexing.html#deprecate-loc-reindex-listlike\n",
      "  return self._getitem_tuple(key)\n"
     ]
    },
    {
     "data": {
      "image/png": "[encoded data removed]",
      "text/plain": [
       "<Figure size 504x252 with 1 Axes>"
      ]
     },
     "metadata": {},
     "output_type": "display_data"
    },
    {
     "data": {
      "image/png": "[encoded data removed]",
      "text/plain": [
       "<Figure size 504x252 with 1 Axes>"
      ]
     },
     "metadata": {},
     "output_type": "display_data"
    },
    {
     "data": {
      "image/png": "[encoded data removed]",
      "text/plain": [
       "<Figure size 504x252 with 1 Axes>"
      ]
     },
     "metadata": {},
     "output_type": "display_data"
    },
    {
     "data": {
      "image/png": "[encoded data removed]",
      "text/plain": [
       "<Figure size 504x252 with 1 Axes>"
      ]
     },
     "metadata": {},
     "output_type": "display_data"
    },
    {
     "data": {
      "image/png": "[encoded data removed]",
      "text/plain": [
       "<Figure size 504x252 with 1 Axes>"
      ]
     },
     "metadata": {},
     "output_type": "display_data"
    },
    {
     "data": {
      "image/png": "[encoded data removed]",
      "text/plain": [
       "<Figure size 504x252 with 1 Axes>"
      ]
     },
     "metadata": {},
     "output_type": "display_data"
    }
   ],
   "source": [
    "sns.set_style(\"white\")\n",
    "sns.set_context(\"poster\")\n",
    "activations = ['relu ks 3x3 bs 1024', 'relu-bn ks 3x3 bs 1024', 'Sep-UP 1e-08 ks 3x3 bs 1024']\n",
    "output_dir = Path('plots/mnist_grid')\n",
    "output_dir.mkdir(parents=True, exist_ok=True)\n",
    "good = [2] + list(range(4,69,8))\n",
    "\n",
    "\n",
    "for metric_name, metric in results.items():\n",
    "    print(metric.keys())\n",
    "#     activations = sorted(list(metric.keys()), reverse=True)\n",
    "    \n",
    "    for activation_name in activations:\n",
    "        activation = metric[activation_name]\n",
    "        activation = activation.sort_index().sort_index(axis=1)\n",
    "        activation = activation.loc[:8, good]\n",
    "        if activation_name == 'relu ks 3x3 bs 1024':\n",
    "            activation[68] = np.zeros((3,1))\n",
    "        fig, ax = plt.subplots(1, figsize=(7, 3.5))\n",
    "        ax.matshow(activation,origin='lower', vmin=0.1, vmax=1)\n",
    "#         ax.set_title(f'{metric_name}: {activation_name}')\n",
    "        ax.set_xticks(range(len(activation.columns)))\n",
    "        ax.set_yticks(range(len(activation.index)))\n",
    "        ax.set_xticklabels(activation.columns)\n",
    "        ax.set_yticklabels(activation.index[:8])\n",
    "        ax.xaxis.set_ticks_position('bottom')\n",
    "        ax.set_xlabel('Depth')\n",
    "        ax.set_ylabel('Width')\n",
    "        fig.tight_layout()\n",
    "        fig.savefig(output_dir.joinpath( slugify(f'{metric_name}-{activation_name}') + '.pdf'))"
   ]
  }
 ],
 "metadata": {
  "kernelspec": {
   "display_name": "Python [conda env:keras] *",
   "language": "python",
   "name": "conda-env-keras-py"
  },
  "language_info": {
   "codemirror_mode": {
    "name": "ipython",
    "version": 3
   },
   "file_extension": ".py",
   "mimetype": "text/x-python",
   "name": "python",
   "nbconvert_exporter": "python",
   "pygments_lexer": "ipython3",
   "version": "3.6.7"
  }
 },
 "nbformat": 4,
 "nbformat_minor": 2
}
